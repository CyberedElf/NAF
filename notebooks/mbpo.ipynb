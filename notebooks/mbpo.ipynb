{
 "cells": [
  {
   "cell_type": "code",
   "execution_count": 4,
   "metadata": {
    "collapsed": true
   },
   "outputs": [],
   "source": [
    "import numpy as np"
   ]
  },
  {
   "cell_type": "code",
   "execution_count": 11,
   "metadata": {
    "collapsed": true
   },
   "outputs": [],
   "source": [
    "n = int(1e6)"
   ]
  },
  {
   "cell_type": "code",
   "execution_count": 43,
   "metadata": {
    "collapsed": false
   },
   "outputs": [],
   "source": [
    "seeded = \n",
    "counter = 0"
   ]
  },
  {
   "cell_type": "code",
   "execution_count": 44,
   "metadata": {
    "collapsed": false
   },
   "outputs": [],
   "source": [
    "def roll2D6():\n",
    "    global counter\n",
    "    counter += 1\n",
    "    return seeded[counter]"
   ]
  },
  {
   "cell_type": "code",
   "execution_count": 45,
   "metadata": {
    "collapsed": true
   },
   "outputs": [],
   "source": [
    "def inj(mb=False, po=False):\n",
    "    \n",
    "    result = roll2D6() + mb\n",
    "    if result > \n",
    "    \n",
    "    \n",
    "    return result\n",
    "    "
   ]
  },
  {
   "cell_type": "code",
   "execution_count": 53,
   "metadata": {
    "collapsed": true
   },
   "outputs": [],
   "source": [
    "import pandas as pd"
   ]
  },
  {
   "cell_type": "code",
   "execution_count": 182,
   "metadata": {
    "collapsed": false
   },
   "outputs": [],
   "source": [
    "# function for no skills:\n",
    "def noskill(av, n=1000000):\n",
    "\n",
    "    dr = np.random.randint(1, 7, n) + np.random.randint(1, 7, n)\n",
    "    dr2 = np.random.randint(1, 7, n) + np.random.randint(1, 7, n)\n",
    "    r = np.where(dr <= av, 0, np.where(dr2 <= 7, 1, np.where(dr2 <= 9, 2, 3)))\n",
    "    \n",
    "    # count 0/1/2/3\n",
    "    return np.array(pd.value_counts(r, normalize=True))\n",
    "\n",
    "# function for mb/claw\n",
    "def mb(av, n=1000000, norm=True):\n",
    "    \n",
    "    dr = np.random.randint(1, 7, n) + np.random.randint(1, 7, n)\n",
    "    dr2 = np.random.randint(1, 7, n) + np.random.randint(1, 7, n)\n",
    "    \n",
    "    # use mb\n",
    "    mb_av = (dr - av == 0)\n",
    "    dr += mb_av\n",
    "    dr2 += ~mb_av\n",
    "    \n",
    "    r = np.where(dr <= av, 0, np.where(dr2 <= 7, 1, np.where(dr2 <= 9, 2, 3)))\n",
    "    \n",
    "    # count 0/1/2/3\n",
    "    return np.array(pd.value_counts(r, normalize=norm))\n",
    "\n",
    "# function for mb/claw\n",
    "def clawmb(av, n=1000000):        \n",
    "    return mb(min(av, 7))\n",
    "\n",
    "# function for mb/po (always unless CAS/KO)\n",
    "# function for mb/claw\n",
    "def mbpo(av, n=1000000, claw=False):\n",
    "    \n",
    "    if claw:\n",
    "        av = min(av, 7)\n",
    "    \n",
    "    avroll = np.random.randint(1, 7, n) + np.random.randint(1, 7, n)\n",
    "    injroll = np.random.randint(1, 7, n) + np.random.randint(1, 7, n)\n",
    "    poroll = np.random.randint(1, 7, n) + np.random.randint(1, 7, n)\n",
    "    \n",
    "    # use mb\n",
    "    r = np.zeros(n)\n",
    "    \n",
    "    result = np.sort(avroll - av)\n",
    "    \n",
    "    # how many below 0? These get po, same as mb\n",
    "    fail = np.sum(result < 0)\n",
    "    \n",
    "    #print(\"failed\", fail)\n",
    "    fail_r = mb(av=av, n=fail, norm=False)\n",
    "    \n",
    "    needmb = np.sum(result == 0)\n",
    "    #print(\"Need mb\", needmb)\n",
    "    # simple po on injury\n",
    "    # if inj_roll > 7, keep else apply po.\n",
    "    result_need = np.sort(np.where(injroll[:needmb] > 7, injroll[:needmb], poroll[:needmb]))\n",
    "    #print(result_need.mean(), injroll.mean(), poroll.mean())\n",
    "    ca = pd.value_counts(np.where(result_need <= 7, 1, np.where(result_need <= 9, 2, 3)))\n",
    "        \n",
    "    thru = np.sum(result > 0)\n",
    "    #print(\"straight thru\", thru)\n",
    "    # simple po on injury with + 1\n",
    "    \n",
    "    # if inj_roll > 7, keep else apply po.\n",
    "    result_su = np.sort(np.where(injroll[:thru] >= 7, injroll[:thru], poroll[:thru]) + 1)\n",
    "    cb = pd.value_counts(np.where(result_su <= 7, 1, np.where(result_su <= 9, 2, 3)))\n",
    "    \n",
    "    # count 0/1/2/3\n",
    "    r = np.vstack([fail_r, np.insert(np.array(ca), 0, 0), np.insert(np.array(cb), 0, 0)])\n",
    "    #print(fail, needmb, thru)\n",
    "    \n",
    "    return r.sum(axis=0)/r.sum()"
   ]
  },
  {
   "cell_type": "code",
   "execution_count": 167,
   "metadata": {
    "collapsed": true
   },
   "outputs": [],
   "source": [
    "injroll = np.random.randint(1, 7, n) + np.random.randint(1, 7, n)\n",
    "poroll = np.random.randint(1, 7, n) + np.random.randint(1, 7, n)"
   ]
  },
  {
   "cell_type": "code",
   "execution_count": 168,
   "metadata": {
    "collapsed": true
   },
   "outputs": [],
   "source": [
    "result_need = np.where(injroll > 7, injroll, poroll)\n"
   ]
  },
  {
   "cell_type": "code",
   "execution_count": 176,
   "metadata": {
    "collapsed": false
   },
   "outputs": [
    {
     "data": {
      "text/plain": [
       "2    395840\n",
       "1    340473\n",
       "3    263687\n",
       "dtype: int64"
      ]
     },
     "execution_count": 176,
     "metadata": {},
     "output_type": "execute_result"
    }
   ],
   "source": [
    "pd.value_counts(np.where(result_need <= 7, 1, np.where(result_need <= 9, 2, 3)))"
   ]
  },
  {
   "cell_type": "code",
   "execution_count": 164,
   "metadata": {
    "collapsed": true
   },
   "outputs": [],
   "source": [
    "qq = np.array(range(10))\n",
    "\n",
    "\n"
   ]
  },
  {
   "cell_type": "code",
   "execution_count": 165,
   "metadata": {
    "collapsed": false
   },
   "outputs": [
    {
     "data": {
      "text/plain": [
       "array([100, 101, 102, 103, 104,   5,   6,   7,   8,   9])"
      ]
     },
     "execution_count": 165,
     "metadata": {},
     "output_type": "execute_result"
    }
   ],
   "source": [
    "np.where(qq < 5, qq + 100, qq)"
   ]
  },
  {
   "cell_type": "code",
   "execution_count": 183,
   "metadata": {
    "collapsed": false
   },
   "outputs": [
    {
     "name": "stdout",
     "output_type": "stream",
     "text": [
      "2    66118\n",
      "1    56736\n",
      "3    43863\n",
      "dtype: int64\n",
      "2    66118\n",
      "1    56736\n",
      "3    43863\n",
      "dtype: int64\n",
      "2    180036\n",
      "3    163834\n",
      "1     72661\n",
      "dtype: int64\n"
     ]
    },
    {
     "data": {
      "text/plain": [
       "array([ 0.17366 ,  0.359047,  0.291021,  0.176272])"
      ]
     },
     "execution_count": 183,
     "metadata": {},
     "output_type": "execute_result"
    }
   ],
   "source": [
    "mbpo(7)"
   ]
  },
  {
   "cell_type": "code",
   "execution_count": 139,
   "metadata": {
    "collapsed": false
   },
   "outputs": [
    {
     "data": {
      "text/plain": [
       "array([416525, 166354, 417121])"
      ]
     },
     "execution_count": 139,
     "metadata": {},
     "output_type": "execute_result"
    }
   ],
   "source": [
    "rows = xx.sum(axis=1)\n",
    "rows"
   ]
  },
  {
   "cell_type": "code",
   "execution_count": 143,
   "metadata": {
    "collapsed": false
   },
   "outputs": [
    {
     "data": {
      "text/plain": [
       "array([[173709, 112642,  70286,  59888],\n",
       "       [     0,  66107,  56496,  43751],\n",
       "       [     0, 180509, 163891,  72721]])"
      ]
     },
     "execution_count": 143,
     "metadata": {},
     "output_type": "execute_result"
    }
   ],
   "source": [
    "xx"
   ]
  },
  {
   "cell_type": "code",
   "execution_count": 144,
   "metadata": {
    "collapsed": false
   },
   "outputs": [
    {
     "data": {
      "text/plain": [
       "array([[ 0.41704339,  0.        ,  0.        ],\n",
       "       [ 0.27043275,  0.3973875 ,  0.43274973],\n",
       "       [ 0.16874377,  0.33961311,  0.39290997],\n",
       "       [ 0.14378009,  0.26299939,  0.1743403 ]])"
      ]
     },
     "execution_count": 144,
     "metadata": {},
     "output_type": "execute_result"
    }
   ],
   "source": [
    "xx.T/rows"
   ]
  },
  {
   "cell_type": "code",
   "execution_count": 83,
   "metadata": {
    "collapsed": false
   },
   "outputs": [],
   "source": [
    "AV = [7, 8, 9, 10]\n",
    "result = [\"no break\", \"stun\", \"KO\", \"CAS\"]"
   ]
  },
  {
   "cell_type": "code",
   "execution_count": 88,
   "metadata": {
    "collapsed": true
   },
   "outputs": [],
   "source": [
    "big_n = 10000000"
   ]
  },
  {
   "cell_type": "code",
   "execution_count": 89,
   "metadata": {
    "collapsed": false
   },
   "outputs": [
    {
     "data": {
      "text/html": [
       "<div>\n",
       "<table border=\"1\" class=\"dataframe\">\n",
       "  <thead>\n",
       "    <tr style=\"text-align: right;\">\n",
       "      <th></th>\n",
       "      <th>no break</th>\n",
       "      <th>stun</th>\n",
       "      <th>KO</th>\n",
       "      <th>CAS</th>\n",
       "    </tr>\n",
       "  </thead>\n",
       "  <tbody>\n",
       "    <tr>\n",
       "      <th>7</th>\n",
       "      <td>0.583201</td>\n",
       "      <td>0.243331</td>\n",
       "      <td>0.104038</td>\n",
       "      <td>0.069431</td>\n",
       "    </tr>\n",
       "    <tr>\n",
       "      <th>8</th>\n",
       "      <td>0.722142</td>\n",
       "      <td>0.162097</td>\n",
       "      <td>0.069481</td>\n",
       "      <td>0.046280</td>\n",
       "    </tr>\n",
       "    <tr>\n",
       "      <th>9</th>\n",
       "      <td>0.833310</td>\n",
       "      <td>0.097273</td>\n",
       "      <td>0.041603</td>\n",
       "      <td>0.027815</td>\n",
       "    </tr>\n",
       "    <tr>\n",
       "      <th>10</th>\n",
       "      <td>0.916587</td>\n",
       "      <td>0.048648</td>\n",
       "      <td>0.020880</td>\n",
       "      <td>0.013885</td>\n",
       "    </tr>\n",
       "  </tbody>\n",
       "</table>\n",
       "</div>"
      ],
      "text/plain": [
       "    no break      stun        KO       CAS\n",
       "7   0.583201  0.243331  0.104038  0.069431\n",
       "8   0.722142  0.162097  0.069481  0.046280\n",
       "9   0.833310  0.097273  0.041603  0.027815\n",
       "10  0.916587  0.048648  0.020880  0.013885"
      ]
     },
     "execution_count": 89,
     "metadata": {},
     "output_type": "execute_result"
    }
   ],
   "source": [
    "no_skill = pd.DataFrame([noskill(x, big_n) for x in AV], columns=result, index=AV)\n",
    "no_skill"
   ]
  },
  {
   "cell_type": "code",
   "execution_count": 90,
   "metadata": {
    "collapsed": false
   },
   "outputs": [
    {
     "data": {
      "text/html": [
       "<div>\n",
       "<table border=\"1\" class=\"dataframe\">\n",
       "  <thead>\n",
       "    <tr style=\"text-align: right;\">\n",
       "      <th></th>\n",
       "      <th>no break</th>\n",
       "      <th>stun</th>\n",
       "      <th>KO</th>\n",
       "      <th>CAS</th>\n",
       "    </tr>\n",
       "  </thead>\n",
       "  <tbody>\n",
       "    <tr>\n",
       "      <th>7</th>\n",
       "      <td>0.416544</td>\n",
       "      <td>0.270985</td>\n",
       "      <td>0.168905</td>\n",
       "      <td>0.143567</td>\n",
       "    </tr>\n",
       "    <tr>\n",
       "      <th>8</th>\n",
       "      <td>0.583303</td>\n",
       "      <td>0.196923</td>\n",
       "      <td>0.119639</td>\n",
       "      <td>0.100135</td>\n",
       "    </tr>\n",
       "    <tr>\n",
       "      <th>9</th>\n",
       "      <td>0.722059</td>\n",
       "      <td>0.134347</td>\n",
       "      <td>0.078692</td>\n",
       "      <td>0.064902</td>\n",
       "    </tr>\n",
       "    <tr>\n",
       "      <th>10</th>\n",
       "      <td>0.833282</td>\n",
       "      <td>0.083428</td>\n",
       "      <td>0.046287</td>\n",
       "      <td>0.037003</td>\n",
       "    </tr>\n",
       "  </tbody>\n",
       "</table>\n",
       "</div>"
      ],
      "text/plain": [
       "    no break      stun        KO       CAS\n",
       "7   0.416544  0.270985  0.168905  0.143567\n",
       "8   0.583303  0.196923  0.119639  0.100135\n",
       "9   0.722059  0.134347  0.078692  0.064902\n",
       "10  0.833282  0.083428  0.046287  0.037003"
      ]
     },
     "execution_count": 90,
     "metadata": {},
     "output_type": "execute_result"
    }
   ],
   "source": [
    "mb_only = pd.DataFrame([mb(x, big_n) for x in AV], columns=result, index=AV)\n",
    "mb_only"
   ]
  },
  {
   "cell_type": "code",
   "execution_count": 91,
   "metadata": {
    "collapsed": false
   },
   "outputs": [
    {
     "data": {
      "text/html": [
       "<div>\n",
       "<table border=\"1\" class=\"dataframe\">\n",
       "  <thead>\n",
       "    <tr style=\"text-align: right;\">\n",
       "      <th></th>\n",
       "      <th>no break</th>\n",
       "      <th>stun</th>\n",
       "      <th>KO</th>\n",
       "      <th>CAS</th>\n",
       "    </tr>\n",
       "  </thead>\n",
       "  <tbody>\n",
       "    <tr>\n",
       "      <th>7</th>\n",
       "      <td>0.416389</td>\n",
       "      <td>0.271316</td>\n",
       "      <td>0.168945</td>\n",
       "      <td>0.143350</td>\n",
       "    </tr>\n",
       "    <tr>\n",
       "      <th>8</th>\n",
       "      <td>0.416463</td>\n",
       "      <td>0.270722</td>\n",
       "      <td>0.169243</td>\n",
       "      <td>0.143572</td>\n",
       "    </tr>\n",
       "    <tr>\n",
       "      <th>9</th>\n",
       "      <td>0.416043</td>\n",
       "      <td>0.271273</td>\n",
       "      <td>0.169343</td>\n",
       "      <td>0.143341</td>\n",
       "    </tr>\n",
       "    <tr>\n",
       "      <th>10</th>\n",
       "      <td>0.416363</td>\n",
       "      <td>0.270930</td>\n",
       "      <td>0.169007</td>\n",
       "      <td>0.143700</td>\n",
       "    </tr>\n",
       "  </tbody>\n",
       "</table>\n",
       "</div>"
      ],
      "text/plain": [
       "    no break      stun        KO       CAS\n",
       "7   0.416389  0.271316  0.168945  0.143350\n",
       "8   0.416463  0.270722  0.169243  0.143572\n",
       "9   0.416043  0.271273  0.169343  0.143341\n",
       "10  0.416363  0.270930  0.169007  0.143700"
      ]
     },
     "execution_count": 91,
     "metadata": {},
     "output_type": "execute_result"
    }
   ],
   "source": [
    "mb_claw = pd.DataFrame([clawmb(x, big_n) for x in AV], columns=result, index=AV)\n",
    "mb_claw"
   ]
  },
  {
   "cell_type": "code",
   "execution_count": 134,
   "metadata": {
    "collapsed": false
   },
   "outputs": [
    {
     "data": {
      "text/html": [
       "<div>\n",
       "<table border=\"1\" class=\"dataframe\">\n",
       "  <thead>\n",
       "    <tr style=\"text-align: right;\">\n",
       "      <th></th>\n",
       "      <th>no break</th>\n",
       "      <th>stun</th>\n",
       "      <th>KO</th>\n",
       "      <th>CAS</th>\n",
       "    </tr>\n",
       "  </thead>\n",
       "  <tbody>\n",
       "    <tr>\n",
       "      <th>7</th>\n",
       "      <td>0.173451</td>\n",
       "      <td>0.359260</td>\n",
       "      <td>0.291157</td>\n",
       "      <td>0.176131</td>\n",
       "    </tr>\n",
       "    <tr>\n",
       "      <th>8</th>\n",
       "      <td>0.340154</td>\n",
       "      <td>0.289885</td>\n",
       "      <td>0.226519</td>\n",
       "      <td>0.143442</td>\n",
       "    </tr>\n",
       "    <tr>\n",
       "      <th>9</th>\n",
       "      <td>0.521254</td>\n",
       "      <td>0.213357</td>\n",
       "      <td>0.160274</td>\n",
       "      <td>0.105115</td>\n",
       "    </tr>\n",
       "    <tr>\n",
       "      <th>10</th>\n",
       "      <td>0.694368</td>\n",
       "      <td>0.138390</td>\n",
       "      <td>0.099824</td>\n",
       "      <td>0.067418</td>\n",
       "    </tr>\n",
       "  </tbody>\n",
       "</table>\n",
       "</div>"
      ],
      "text/plain": [
       "    no break      stun        KO       CAS\n",
       "7   0.173451  0.359260  0.291157  0.176131\n",
       "8   0.340154  0.289885  0.226519  0.143442\n",
       "9   0.521254  0.213357  0.160274  0.105115\n",
       "10  0.694368  0.138390  0.099824  0.067418"
      ]
     },
     "execution_count": 134,
     "metadata": {},
     "output_type": "execute_result"
    }
   ],
   "source": [
    "mb_po = pd.DataFrame([mbpo(x, big_n) for x in AV], columns=result, index=AV)\n",
    "mb_po"
   ]
  }
 ],
 "metadata": {
  "kernelspec": {
   "display_name": "Python 3",
   "language": "python",
   "name": "python3"
  },
  "language_info": {
   "codemirror_mode": {
    "name": "ipython",
    "version": 3
   },
   "file_extension": ".py",
   "mimetype": "text/x-python",
   "name": "python",
   "nbconvert_exporter": "python",
   "pygments_lexer": "ipython3",
   "version": "3.5.0+"
  }
 },
 "nbformat": 4,
 "nbformat_minor": 0
}
