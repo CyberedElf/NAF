{
 "cells": [
  {
   "cell_type": "code",
   "execution_count": 1,
   "metadata": {
    "collapsed": true,
    "deletable": true,
    "editable": true
   },
   "outputs": [],
   "source": [
    "import glicko2 as Glicko"
   ]
  },
  {
   "cell_type": "code",
   "execution_count": 2,
   "metadata": {
    "collapsed": true,
    "deletable": true,
    "editable": true
   },
   "outputs": [],
   "source": [
    "# improbable results are likely so set tau low\n",
    "tau = 0.2\n",
    "phi = 350\n",
    "sigma = 0.15\n",
    "mu_decay_factor = 0.995"
   ]
  },
  {
   "cell_type": "code",
   "execution_count": 3,
   "metadata": {
    "collapsed": false,
    "deletable": true,
    "editable": true
   },
   "outputs": [],
   "source": [
    "glck = Glicko.Glicko2(tau=tau, phi=phi, sigma=sigma)"
   ]
  },
  {
   "cell_type": "code",
   "execution_count": 4,
   "metadata": {
    "collapsed": true,
    "deletable": true,
    "editable": true
   },
   "outputs": [],
   "source": [
    "import pandas as pd\n",
    "import math\n",
    "import numpy as np"
   ]
  },
  {
   "cell_type": "code",
   "execution_count": 5,
   "metadata": {
    "collapsed": false,
    "deletable": true,
    "editable": true
   },
   "outputs": [],
   "source": [
    "naf_data = pd.read_csv(\"data/NAF_games.csv.gz\", sep=\",\", \n",
    "                       parse_dates=['date'], index_col=3)\n",
    "\n",
    "naf_data.sort_values(\"date\", inplace=True)"
   ]
  },
  {
   "cell_type": "code",
   "execution_count": 6,
   "metadata": {
    "collapsed": false,
    "deletable": true,
    "editable": true
   },
   "outputs": [
    {
     "data": {
      "text/html": [
       "<div>\n",
       "<table border=\"1\" class=\"dataframe\">\n",
       "  <thead>\n",
       "    <tr style=\"text-align: right;\">\n",
       "      <th></th>\n",
       "      <th>tournamentname</th>\n",
       "      <th>tournamentnation</th>\n",
       "      <th>tournamentcity</th>\n",
       "      <th>HomeCoachNAFname</th>\n",
       "      <th>HomeCoachNAFid</th>\n",
       "      <th>HomeRace</th>\n",
       "      <th>goalshome</th>\n",
       "      <th>AwayCoachNAFname</th>\n",
       "      <th>AwayCoachNAFid</th>\n",
       "      <th>AwayRace</th>\n",
       "      <th>goalsaway</th>\n",
       "      <th>date</th>\n",
       "    </tr>\n",
       "    <tr>\n",
       "      <th>gameid</th>\n",
       "      <th></th>\n",
       "      <th></th>\n",
       "      <th></th>\n",
       "      <th></th>\n",
       "      <th></th>\n",
       "      <th></th>\n",
       "      <th></th>\n",
       "      <th></th>\n",
       "      <th></th>\n",
       "      <th></th>\n",
       "      <th></th>\n",
       "      <th></th>\n",
       "    </tr>\n",
       "  </thead>\n",
       "  <tbody>\n",
       "    <tr>\n",
       "      <th>8572</th>\n",
       "      <td>The Dutch Open 2003</td>\n",
       "      <td>Netherlands</td>\n",
       "      <td>Amsterdam</td>\n",
       "      <td>Gorbad</td>\n",
       "      <td>152</td>\n",
       "      <td>Wood Elves</td>\n",
       "      <td>1</td>\n",
       "      <td>dolferl</td>\n",
       "      <td>126</td>\n",
       "      <td>Dark Elves</td>\n",
       "      <td>5</td>\n",
       "      <td>2003-01-02 12:00:00</td>\n",
       "    </tr>\n",
       "    <tr>\n",
       "      <th>8571</th>\n",
       "      <td>The Dutch Open 2003</td>\n",
       "      <td>Netherlands</td>\n",
       "      <td>Amsterdam</td>\n",
       "      <td>Norse</td>\n",
       "      <td>144</td>\n",
       "      <td>Dwarves</td>\n",
       "      <td>2</td>\n",
       "      <td>Skevan</td>\n",
       "      <td>136</td>\n",
       "      <td>Norse</td>\n",
       "      <td>0</td>\n",
       "      <td>2003-01-02 12:00:00</td>\n",
       "    </tr>\n",
       "    <tr>\n",
       "      <th>8557</th>\n",
       "      <td>The Dutch Open 2003</td>\n",
       "      <td>Netherlands</td>\n",
       "      <td>Amsterdam</td>\n",
       "      <td>playfulhands</td>\n",
       "      <td>148</td>\n",
       "      <td>Wood Elves</td>\n",
       "      <td>3</td>\n",
       "      <td>grep_v</td>\n",
       "      <td>142</td>\n",
       "      <td>Chaos Dwarves</td>\n",
       "      <td>2</td>\n",
       "      <td>2003-01-02 12:00:00</td>\n",
       "    </tr>\n",
       "    <tr>\n",
       "      <th>8558</th>\n",
       "      <td>The Dutch Open 2003</td>\n",
       "      <td>Netherlands</td>\n",
       "      <td>Amsterdam</td>\n",
       "      <td>madhobbit</td>\n",
       "      <td>130</td>\n",
       "      <td>Undead</td>\n",
       "      <td>1</td>\n",
       "      <td>Zy_Nox</td>\n",
       "      <td>86</td>\n",
       "      <td>Undead</td>\n",
       "      <td>1</td>\n",
       "      <td>2003-01-02 12:00:00</td>\n",
       "    </tr>\n",
       "    <tr>\n",
       "      <th>8559</th>\n",
       "      <td>The Dutch Open 2003</td>\n",
       "      <td>Netherlands</td>\n",
       "      <td>Amsterdam</td>\n",
       "      <td>Longshot</td>\n",
       "      <td>101</td>\n",
       "      <td>Wood Elves</td>\n",
       "      <td>3</td>\n",
       "      <td>Redfang</td>\n",
       "      <td>143</td>\n",
       "      <td>Dwarves</td>\n",
       "      <td>1</td>\n",
       "      <td>2003-01-02 12:00:00</td>\n",
       "    </tr>\n",
       "  </tbody>\n",
       "</table>\n",
       "</div>"
      ],
      "text/plain": [
       "             tournamentname tournamentnation tournamentcity HomeCoachNAFname  \\\n",
       "gameid                                                                         \n",
       "8572    The Dutch Open 2003      Netherlands      Amsterdam           Gorbad   \n",
       "8571    The Dutch Open 2003      Netherlands      Amsterdam            Norse   \n",
       "8557    The Dutch Open 2003      Netherlands      Amsterdam     playfulhands   \n",
       "8558    The Dutch Open 2003      Netherlands      Amsterdam        madhobbit   \n",
       "8559    The Dutch Open 2003      Netherlands      Amsterdam         Longshot   \n",
       "\n",
       "        HomeCoachNAFid    HomeRace  goalshome AwayCoachNAFname  \\\n",
       "gameid                                                           \n",
       "8572               152  Wood Elves          1          dolferl   \n",
       "8571               144     Dwarves          2           Skevan   \n",
       "8557               148  Wood Elves          3           grep_v   \n",
       "8558               130      Undead          1           Zy_Nox   \n",
       "8559               101  Wood Elves          3          Redfang   \n",
       "\n",
       "        AwayCoachNAFid       AwayRace  goalsaway                date  \n",
       "gameid                                                                \n",
       "8572               126     Dark Elves          5 2003-01-02 12:00:00  \n",
       "8571               136          Norse          0 2003-01-02 12:00:00  \n",
       "8557               142  Chaos Dwarves          2 2003-01-02 12:00:00  \n",
       "8558                86         Undead          1 2003-01-02 12:00:00  \n",
       "8559               143        Dwarves          1 2003-01-02 12:00:00  "
      ]
     },
     "execution_count": 6,
     "metadata": {},
     "output_type": "execute_result"
    }
   ],
   "source": [
    "naf_data.head()"
   ]
  },
  {
   "cell_type": "code",
   "execution_count": 7,
   "metadata": {
    "collapsed": false,
    "deletable": true,
    "editable": true
   },
   "outputs": [],
   "source": [
    "home = naf_data[[\"HomeCoachNAFid\", \"HomeCoachNAFname\"]].drop_duplicates()\n",
    "away = naf_data[[\"AwayCoachNAFid\", \"AwayCoachNAFname\"]].drop_duplicates()\n",
    "away.columns = home.columns"
   ]
  },
  {
   "cell_type": "code",
   "execution_count": 8,
   "metadata": {
    "collapsed": false,
    "deletable": true,
    "editable": true
   },
   "outputs": [],
   "source": [
    "# create lookup table to map id to name\n",
    "dd = pd.concat([home, away], axis=0)\n",
    "dd = dd.set_index(\"HomeCoachNAFid\")"
   ]
  },
  {
   "cell_type": "code",
   "execution_count": 9,
   "metadata": {
    "collapsed": false,
    "deletable": true,
    "editable": true
   },
   "outputs": [],
   "source": [
    "lookup = dd.to_dict()[\"HomeCoachNAFname\"]"
   ]
  },
  {
   "cell_type": "code",
   "execution_count": 10,
   "metadata": {
    "collapsed": false,
    "deletable": true,
    "editable": true
   },
   "outputs": [],
   "source": [
    "ranking_periods = pd.date_range(naf_data.iloc[0].date - pd.offsets.MonthBegin(1), \n",
    "                                naf_data.iloc[-1].date + pd.offsets.MonthBegin(1), \n",
    "                                freq='2M')"
   ]
  },
  {
   "cell_type": "code",
   "execution_count": 11,
   "metadata": {
    "collapsed": false,
    "deletable": true,
    "editable": true
   },
   "outputs": [],
   "source": [
    "race_ids = sorted(naf_data.HomeRace.unique())"
   ]
  },
  {
   "cell_type": "code",
   "execution_count": 12,
   "metadata": {
    "collapsed": false,
    "deletable": true,
    "editable": true
   },
   "outputs": [],
   "source": [
    "class Player(object):\n",
    "    \n",
    "    # need to maintain only historical rankings, not phi etc.\n",
    "    def __init__(self, player_id):\n",
    "        \n",
    "        self.pid = player_id\n",
    "        self.rankings = {}\n",
    "        self.new_rankings = {}\n",
    "        self.hist_ratings = pd.DataFrame(columns=race_ids)\n",
    "        self.name = lookup[player_id]\n",
    "        \n",
    "    def get_ranking(self, race_id):\n",
    "        \n",
    "        assert race_id in self.hist_ratings.columns, \"bad race_id\"\n",
    "        return self.rankings.get(race_id, glck.create_rating())\n",
    "        \n",
    "    def update_rankings(self, games_df):\n",
    "        \n",
    "        byrace = games_df.groupby(\"HomeRace\")\n",
    "        for played_race in byrace.groups:\n",
    "\n",
    "            games = byrace.get_group(played_race)\n",
    "            series = list()\n",
    "\n",
    "            for opp_id, opp_race, result in zip(games.AwayCoachNAFid, \n",
    "                                                games.AwayRace, \n",
    "                                                games.result):\n",
    "\n",
    "                series.append((result,\n",
    "                               ranking_data[opp_id].get_ranking(opp_race)))\n",
    "\n",
    "            my_ranking = self.get_ranking(played_race)\n",
    "            \n",
    "            self.new_rankings[played_race] = glck.rate(my_ranking, series)\n",
    "\n",
    "    # now through all players: if not played then increment their phi\n",
    "    \n",
    "    def end_ranking_period(self, date):\n",
    "        \n",
    "        # copy new rankings\n",
    "        for race in self.hist_ratings.columns:\n",
    "            if (race in self.rankings) and (race not in self.new_rankings):\n",
    "                self.rankings[race] = self.decay(race)\n",
    "            elif race in self.new_rankings:\n",
    "                self.rankings[race] = self.new_rankings[race]\n",
    "                \n",
    "        # delete temp ranks\n",
    "        self.new_rankings = {}\n",
    "        \n",
    "        # fill historical with rankings.\n",
    "        self.hist_ratings.loc[date] = [self.rate(c) for c in self.hist_ratings.columns]\n",
    "        \n",
    "    def rate(self, race):\n",
    "        \n",
    "        if race not in self.rankings:\n",
    "            return np.nan\n",
    "        \n",
    "        else:\n",
    "            q = self.rankings[race]\n",
    "            return q.mu - 2 * q.phi\n",
    "        \n",
    "    def decay(self, race):\n",
    "        # transform into glicko space...\n",
    "        dnp = glck.scale_down(self.rankings[race])\n",
    "        \n",
    "        # increment phi\n",
    "        phi_star = math.sqrt(dnp.phi ** 2 + dnp.sigma ** 2)\n",
    "                \n",
    "        # shrink mu\n",
    "        mu_star = dnp.mu * mu_decay_factor\n",
    "                \n",
    "        return glck.scale_up(\n",
    "            glck.create_rating(mu=mu_star, phi=phi_star, sigma=dnp.sigma))"
   ]
  },
  {
   "cell_type": "code",
   "execution_count": 13,
   "metadata": {
    "collapsed": false,
    "deletable": true,
    "editable": true
   },
   "outputs": [],
   "source": [
    "ranking_data = dict()\n",
    "\n",
    "for start, stop in zip(ranking_periods[:-1], ranking_periods[1:]):\n",
    "    \n",
    "    new_ranking = dict()\n",
    "    \n",
    "    start_ix = naf_data.date.searchsorted(start)[0]\n",
    "    stop_ix = naf_data.date.searchsorted(stop)[0]\n",
    "    \n",
    "    # extract just games in this period\n",
    "    d = naf_data[start_ix:stop_ix]\n",
    "    \n",
    "    # drop irrelevent fields\n",
    "    x = d.drop([\"tournamentname\", \"tournamentnation\", \"tournamentcity\", \n",
    "                \"HomeCoachNAFname\", \"AwayCoachNAFname\", \"date\"], axis=1).copy()\n",
    "    \n",
    "    # duplicate- as we have to handle both players\n",
    "    y = x.ix[:, [3, 4, 5, 0, 1, 2]].copy()\n",
    "    y.columns = x.columns\n",
    "    x = pd.concat([x, y], axis=0)\n",
    "\n",
    "    # create new result column\n",
    "    x[\"result\"] = np.where(x.goalshome > x.goalsaway, 1, \n",
    "                           np.where(x.goalshome < x.goalsaway, 0, 0.5)) \n",
    "    \n",
    "    for xid in x.HomeCoachNAFid.unique():\n",
    "        if xid not in ranking_data:\n",
    "            ranking_data[xid] = Player(xid)\n",
    "    \n",
    "    # group by player\n",
    "    grped = x.groupby(\"HomeCoachNAFid\")\n",
    "    \n",
    "    # first run through all players who have played in this period\n",
    "    for player in grped.groups:\n",
    "        \n",
    "        new_ranking[player] = dict()\n",
    "        \n",
    "        # all games played by player X\n",
    "        data = grped.get_group(player)    \n",
    "        ranking_data[player].update_rankings(data)\n",
    "        \n",
    "    # end all ranking periods.\n",
    "    for k, v in ranking_data.items():\n",
    "        v.end_ranking_period(stop)"
   ]
  },
  {
   "cell_type": "code",
   "execution_count": 14,
   "metadata": {
    "collapsed": true
   },
   "outputs": [],
   "source": [
    "import matplotlib.pyplot as plt\n",
    "%matplotlib inline"
   ]
  },
  {
   "cell_type": "code",
   "execution_count": 15,
   "metadata": {
    "collapsed": false
   },
   "outputs": [],
   "source": [
    "current_ratings = {}\n",
    "\n",
    "for key, value in ranking_data.items():\n",
    "    if value.name is np.nan:\n",
    "        continue\n",
    "    current_ratings[value.name] = value.hist_ratings.loc[stop]\n",
    "    \n",
    "df_current_ratings = pd.DataFrame(pd.concat(current_ratings, names=[\"coach\", \"race\"]))\n",
    "df_current_ratings.columns = [\"rating\"]"
   ]
  },
  {
   "cell_type": "code",
   "execution_count": 16,
   "metadata": {
    "collapsed": false
   },
   "outputs": [],
   "source": [
    "df_current_ratings = df_current_ratings[~np.isnan(df_current_ratings.rating)]"
   ]
  },
  {
   "cell_type": "code",
   "execution_count": 17,
   "metadata": {
    "collapsed": false
   },
   "outputs": [],
   "source": [
    "df_current_ratings = df_current_ratings.sort_values(\"rating\", ascending=False)"
   ]
  },
  {
   "cell_type": "code",
   "execution_count": 18,
   "metadata": {
    "collapsed": false
   },
   "outputs": [
    {
     "data": {
      "text/html": [
       "<div>\n",
       "<table border=\"1\" class=\"dataframe\">\n",
       "  <thead>\n",
       "    <tr style=\"text-align: right;\">\n",
       "      <th></th>\n",
       "      <th></th>\n",
       "      <th>rating</th>\n",
       "    </tr>\n",
       "    <tr>\n",
       "      <th>coach</th>\n",
       "      <th>race</th>\n",
       "      <th></th>\n",
       "    </tr>\n",
       "  </thead>\n",
       "  <tbody>\n",
       "    <tr>\n",
       "      <th>Pipey</th>\n",
       "      <th>Norse</th>\n",
       "      <td>1693.768881</td>\n",
       "    </tr>\n",
       "    <tr>\n",
       "      <th>Tank</th>\n",
       "      <th>Wood Elves</th>\n",
       "      <td>1693.144317</td>\n",
       "    </tr>\n",
       "    <tr>\n",
       "      <th>Purplegoo</th>\n",
       "      <th>Humans</th>\n",
       "      <td>1688.672869</td>\n",
       "    </tr>\n",
       "    <tr>\n",
       "      <th>Pipey</th>\n",
       "      <th>Undead</th>\n",
       "      <td>1686.489418</td>\n",
       "    </tr>\n",
       "    <tr>\n",
       "      <th>Joemanji</th>\n",
       "      <th>Lizardmen</th>\n",
       "      <td>1686.169053</td>\n",
       "    </tr>\n",
       "    <tr>\n",
       "      <th>Purplegoo</th>\n",
       "      <th>Vampires</th>\n",
       "      <td>1680.273681</td>\n",
       "    </tr>\n",
       "    <tr>\n",
       "      <th>Karaak</th>\n",
       "      <th>Lizardmen</th>\n",
       "      <td>1674.686044</td>\n",
       "    </tr>\n",
       "    <tr>\n",
       "      <th>AndyDavo</th>\n",
       "      <th>Dark Elves</th>\n",
       "      <td>1674.553959</td>\n",
       "    </tr>\n",
       "    <tr>\n",
       "      <th>zoul</th>\n",
       "      <th>Dark Elves</th>\n",
       "      <td>1673.099108</td>\n",
       "    </tr>\n",
       "    <tr>\n",
       "      <th>Beppe</th>\n",
       "      <th>Dark Elves</th>\n",
       "      <td>1664.939964</td>\n",
       "    </tr>\n",
       "    <tr>\n",
       "      <th>bourpif</th>\n",
       "      <th>Undead</th>\n",
       "      <td>1662.566018</td>\n",
       "    </tr>\n",
       "    <tr>\n",
       "      <th>kfoged</th>\n",
       "      <th>Dark Elves</th>\n",
       "      <td>1662.058396</td>\n",
       "    </tr>\n",
       "    <tr>\n",
       "      <th>Phoenix11</th>\n",
       "      <th>Dark Elves</th>\n",
       "      <td>1657.791564</td>\n",
       "    </tr>\n",
       "    <tr>\n",
       "      <th>Jimjimany</th>\n",
       "      <th>Wood Elves</th>\n",
       "      <td>1644.979094</td>\n",
       "    </tr>\n",
       "    <tr>\n",
       "      <th>Harti</th>\n",
       "      <th>Dark Elves</th>\n",
       "      <td>1639.166374</td>\n",
       "    </tr>\n",
       "    <tr>\n",
       "      <th>Purplegoo</th>\n",
       "      <th>Slann</th>\n",
       "      <td>1630.351563</td>\n",
       "    </tr>\n",
       "    <tr>\n",
       "      <th>Harti</th>\n",
       "      <th>Chaos Dwarves</th>\n",
       "      <td>1629.363964</td>\n",
       "    </tr>\n",
       "    <tr>\n",
       "      <th>Miko</th>\n",
       "      <th>Wood Elves</th>\n",
       "      <td>1628.626470</td>\n",
       "    </tr>\n",
       "    <tr>\n",
       "      <th>Justicium</th>\n",
       "      <th>Undead</th>\n",
       "      <td>1627.006114</td>\n",
       "    </tr>\n",
       "    <tr>\n",
       "      <th>Simon_ACP</th>\n",
       "      <th>Dark Elves</th>\n",
       "      <td>1625.386140</td>\n",
       "    </tr>\n",
       "    <tr>\n",
       "      <th>Gotti</th>\n",
       "      <th>Chaos Dwarves</th>\n",
       "      <td>1624.930752</td>\n",
       "    </tr>\n",
       "    <tr>\n",
       "      <th>Spartako</th>\n",
       "      <th>Orc</th>\n",
       "      <td>1624.463085</td>\n",
       "    </tr>\n",
       "    <tr>\n",
       "      <th>garrick</th>\n",
       "      <th>Dark Elves</th>\n",
       "      <td>1624.268756</td>\n",
       "    </tr>\n",
       "    <tr>\n",
       "      <th>KSHARPER</th>\n",
       "      <th>Chaos Dwarves</th>\n",
       "      <td>1624.064231</td>\n",
       "    </tr>\n",
       "    <tr>\n",
       "      <th>Dirold</th>\n",
       "      <th>Undead</th>\n",
       "      <td>1620.756849</td>\n",
       "    </tr>\n",
       "    <tr>\n",
       "      <th>Don_Vito</th>\n",
       "      <th>Slann</th>\n",
       "      <td>1620.094187</td>\n",
       "    </tr>\n",
       "    <tr>\n",
       "      <th>Dunenzed</th>\n",
       "      <th>Humans</th>\n",
       "      <td>1619.727080</td>\n",
       "    </tr>\n",
       "    <tr>\n",
       "      <th>Owen86</th>\n",
       "      <th>Lizardmen</th>\n",
       "      <td>1618.702742</td>\n",
       "    </tr>\n",
       "    <tr>\n",
       "      <th>delevus</th>\n",
       "      <th>Amazons</th>\n",
       "      <td>1618.435003</td>\n",
       "    </tr>\n",
       "    <tr>\n",
       "      <th>mubo</th>\n",
       "      <th>Dark Elves</th>\n",
       "      <td>1618.049711</td>\n",
       "    </tr>\n",
       "  </tbody>\n",
       "</table>\n",
       "</div>"
      ],
      "text/plain": [
       "                              rating\n",
       "coach     race                      \n",
       "Pipey     Norse          1693.768881\n",
       "Tank      Wood Elves     1693.144317\n",
       "Purplegoo Humans         1688.672869\n",
       "Pipey     Undead         1686.489418\n",
       "Joemanji  Lizardmen      1686.169053\n",
       "Purplegoo Vampires       1680.273681\n",
       "Karaak    Lizardmen      1674.686044\n",
       "AndyDavo  Dark Elves     1674.553959\n",
       "zoul      Dark Elves     1673.099108\n",
       "Beppe     Dark Elves     1664.939964\n",
       "bourpif   Undead         1662.566018\n",
       "kfoged    Dark Elves     1662.058396\n",
       "Phoenix11 Dark Elves     1657.791564\n",
       "Jimjimany Wood Elves     1644.979094\n",
       "Harti     Dark Elves     1639.166374\n",
       "Purplegoo Slann          1630.351563\n",
       "Harti     Chaos Dwarves  1629.363964\n",
       "Miko      Wood Elves     1628.626470\n",
       "Justicium Undead         1627.006114\n",
       "Simon_ACP Dark Elves     1625.386140\n",
       "Gotti     Chaos Dwarves  1624.930752\n",
       "Spartako  Orc            1624.463085\n",
       "garrick   Dark Elves     1624.268756\n",
       "KSHARPER  Chaos Dwarves  1624.064231\n",
       "Dirold    Undead         1620.756849\n",
       "Don_Vito  Slann          1620.094187\n",
       "Dunenzed  Humans         1619.727080\n",
       "Owen86    Lizardmen      1618.702742\n",
       "delevus   Amazons        1618.435003\n",
       "mubo      Dark Elves     1618.049711"
      ]
     },
     "execution_count": 18,
     "metadata": {},
     "output_type": "execute_result"
    }
   ],
   "source": [
    "df_current_ratings[:30]"
   ]
  },
  {
   "cell_type": "markdown",
   "metadata": {
    "deletable": true,
    "editable": true
   },
   "source": [
    "## Parse data structure into something more tabular"
   ]
  },
  {
   "cell_type": "code",
   "execution_count": 20,
   "metadata": {
    "collapsed": false
   },
   "outputs": [
    {
     "data": {
      "text/plain": [
       "<matplotlib.legend.Legend at 0x7fd95cc53358>"
      ]
     },
     "execution_count": 20,
     "metadata": {},
     "output_type": "execute_result"
    },
    {
     "data": {
      "image/png": "[encoded data removed]",
      "text/plain": [
       "<matplotlib.figure.Figure at 0x7fd9624f2470>"
      ]
     },
     "metadata": {},
     "output_type": "display_data"
    }
   ],
   "source": [
    "fig, ax = plt.subplots()\n",
    "\n",
    "ax.plot(ranking_data[12403].hist_ratings[\"Wood Elves\"], label=\"Jim WE\")\n",
    "ax.plot(ranking_data[3312].hist_ratings[\"Lizardmen\"], label=\"Joe LZ\")\n",
    "ax.plot(ranking_data[13409].hist_ratings[\"Dark Elves\"], label=\"Nick DE\")\n",
    "ax.plot(ranking_data[20556].hist_ratings[\"Lizardmen\"], label=\"Dan LZ\")\n",
    "ax.legend()"
   ]
  },
  {
   "cell_type": "code",
   "execution_count": 21,
   "metadata": {
    "collapsed": true,
    "deletable": true,
    "editable": true
   },
   "outputs": [],
   "source": [
    "import seaborn as sns"
   ]
  },
  {
   "cell_type": "code",
   "execution_count": 22,
   "metadata": {
    "collapsed": true,
    "deletable": true,
    "editable": true
   },
   "outputs": [],
   "source": [
    "%matplotlib inline"
   ]
  },
  {
   "cell_type": "code",
   "execution_count": 23,
   "metadata": {
    "collapsed": false,
    "deletable": true,
    "editable": true
   },
   "outputs": [
    {
     "name": "stderr",
     "output_type": "stream",
     "text": [
      "/home/njh/miniconda3/envs/science/lib/python3.5/site-packages/statsmodels/nonparametric/kdetools.py:20: VisibleDeprecationWarning: using a non-integer number instead of an integer will result in an error in the future\n",
      "  y = X[:m/2+1] + np.r_[0,X[m/2+1:],0]*1j\n"
     ]
    },
    {
     "data": {
      "text/plain": [
       "<matplotlib.axes._subplots.AxesSubplot at 0x7fd954da0ba8>"
      ]
     },
     "execution_count": 23,
     "metadata": {},
     "output_type": "execute_result"
    },
    {
     "data": {
      "image/png": "[encoded data removed]",
      "text/plain": [
       "<matplotlib.figure.Figure at 0x7fd954da0128>"
      ]
     },
     "metadata": {},
     "output_type": "display_data"
    }
   ],
   "source": [
    "sns.distplot(df_current_ratings.rating)"
   ]
  },
  {
   "cell_type": "code",
   "execution_count": null,
   "metadata": {
    "collapsed": true,
    "deletable": true,
    "editable": true
   },
   "outputs": [],
   "source": [
    "# algorithm:\n",
    "\n",
    "# grab data in rating period. 2 months.\n",
    "\n",
    "# reshape the data so 2 x the number of rows and home/away repeated. column for w/l/d\n",
    "# 3 columns, playerID, oppoent, result\n",
    "\n",
    "# group df by playerA id. \n",
    "\n",
    "# create a matrix of all the players who compet\n",
    "\n"
   ]
  }
 ],
 "metadata": {
  "kernelspec": {
   "display_name": "Python 3",
   "language": "python",
   "name": "python3"
  },
  "language_info": {
   "codemirror_mode": {
    "name": "ipython",
    "version": 3
   },
   "file_extension": ".py",
   "mimetype": "text/x-python",
   "name": "python",
   "nbconvert_exporter": "python",
   "pygments_lexer": "ipython3",
   "version": "3.5.2"
  }
 },
 "nbformat": 4,
 "nbformat_minor": 0
}
