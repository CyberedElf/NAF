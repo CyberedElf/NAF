{
 "cells": [
  {
   "cell_type": "code",
   "execution_count": 1,
   "metadata": {
    "collapsed": true,
    "deletable": true,
    "editable": true
   },
   "outputs": [],
   "source": [
    "import glicko2 as Glicko"
   ]
  },
  {
   "cell_type": "code",
   "execution_count": 2,
   "metadata": {
    "collapsed": true,
    "deletable": true,
    "editable": true
   },
   "outputs": [],
   "source": [
    "# improbable results are likely so set tau low\n",
    "TAU = 0.2     # system constant\n",
    "MU = 1500\n",
    "PHI = 350     # Starting rating deviation\n",
    "SIGMA = 0.06  # starting volatility"
   ]
  },
  {
   "cell_type": "code",
   "execution_count": 3,
   "metadata": {
    "collapsed": false,
    "deletable": true,
    "editable": true
   },
   "outputs": [],
   "source": [
    "glck = Glicko.Glicko2(mu=MU, tau=TAU, phi=PHI, sigma=SIGMA)"
   ]
  },
  {
   "cell_type": "code",
   "execution_count": 4,
   "metadata": {
    "collapsed": true,
    "deletable": true,
    "editable": true
   },
   "outputs": [],
   "source": [
    "import pandas as pd\n",
    "import math\n",
    "import numpy as np"
   ]
  },
  {
   "cell_type": "code",
   "execution_count": 5,
   "metadata": {
    "collapsed": false,
    "deletable": true,
    "editable": true
   },
   "outputs": [],
   "source": [
    "import seaborn as sns"
   ]
  },
  {
   "cell_type": "code",
   "execution_count": 6,
   "metadata": {
    "collapsed": true,
    "deletable": true,
    "editable": true
   },
   "outputs": [],
   "source": [
    "import matplotlib.pyplot as plt\n",
    "%matplotlib inline"
   ]
  },
  {
   "cell_type": "code",
   "execution_count": 7,
   "metadata": {
    "collapsed": true,
    "deletable": true,
    "editable": true
   },
   "outputs": [],
   "source": [
    "naf_data = pd.read_csv(\"data/NAF_games.csv.gz\", sep=\",\",\n",
    "                       index_col=None)"
   ]
  },
  {
   "cell_type": "code",
   "execution_count": 8,
   "metadata": {
    "collapsed": false,
    "deletable": true,
    "editable": true
   },
   "outputs": [],
   "source": [
    "naf_data[\"date\"] = pd.to_datetime(\n",
    "    naf_data.date.apply(lambda y: y.split(\" \")[0]),\n",
    "    format=\"%d/%m/%Y\")"
   ]
  },
  {
   "cell_type": "code",
   "execution_count": 9,
   "metadata": {
    "collapsed": false,
    "deletable": true,
    "editable": true
   },
   "outputs": [],
   "source": [
    "naf_data.set_index(\"date\", inplace=True)"
   ]
  },
  {
   "cell_type": "code",
   "execution_count": 10,
   "metadata": {
    "collapsed": false,
    "deletable": true,
    "editable": true
   },
   "outputs": [],
   "source": [
    "naf_data.sort_index(inplace=True)"
   ]
  },
  {
   "cell_type": "code",
   "execution_count": 11,
   "metadata": {
    "collapsed": false,
    "deletable": true,
    "editable": true
   },
   "outputs": [],
   "source": [
    "# up to June '17 due to errors in data\n",
    "naf_data = naf_data[:pd.Timestamp('2017-06-01')]"
   ]
  },
  {
   "cell_type": "code",
   "execution_count": 12,
   "metadata": {
    "collapsed": false,
    "deletable": true,
    "editable": true
   },
   "outputs": [
    {
     "data": {
      "text/plain": [
       "[<matplotlib.lines.Line2D at 0x7fe0334794a8>]"
      ]
     },
     "execution_count": 12,
     "metadata": {},
     "output_type": "execute_result"
    },
    {
     "data": {
      "image/png": "[encoded data removed]",
      "text/plain": [
       "<matplotlib.figure.Figure at 0x7fe0332e7c88>"
      ]
     },
     "metadata": {},
     "output_type": "display_data"
    }
   ],
   "source": [
    "plt.plot(naf_data.gameid, \"o\")"
   ]
  },
  {
   "cell_type": "markdown",
   "metadata": {
    "deletable": true,
    "editable": true
   },
   "source": [
    "## Set lookup"
   ]
  },
  {
   "cell_type": "code",
   "execution_count": 13,
   "metadata": {
    "collapsed": false,
    "deletable": true,
    "editable": true
   },
   "outputs": [],
   "source": [
    "home = naf_data[[\"HomeCoachNAFid\", \"HomeCoachNAFname\"]].drop_duplicates()\n",
    "away = naf_data[[\"AwayCoachNAFid\", \"AwayCoachNAFname\"]].drop_duplicates()\n",
    "away.columns = home.columns\n",
    "\n",
    "# create lookup table to map id to name\n",
    "dd = pd.concat([home, away], axis=0)\n",
    "dd = dd.set_index(\"HomeCoachNAFid\")\n",
    "\n",
    "lookup = dd.to_dict()[\"HomeCoachNAFname\"]\n",
    "\n",
    "inv_lookup = {v: k for k, v in lookup.items()}"
   ]
  },
  {
   "cell_type": "code",
   "execution_count": 14,
   "metadata": {
    "collapsed": false,
    "deletable": true,
    "editable": true
   },
   "outputs": [],
   "source": [
    "race_ids = sorted(naf_data.HomeRace.unique())"
   ]
  },
  {
   "cell_type": "code",
   "execution_count": 15,
   "metadata": {
    "collapsed": false,
    "deletable": true,
    "editable": true
   },
   "outputs": [
    {
     "data": {
      "text/plain": [
       "glicko2.Rating(mu=1500.000, phi=350.000, sigma=0.060)"
      ]
     },
     "execution_count": 15,
     "metadata": {},
     "output_type": "execute_result"
    }
   ],
   "source": [
    "glck.create_rating()"
   ]
  },
  {
   "cell_type": "code",
   "execution_count": 16,
   "metadata": {
    "collapsed": false,
    "deletable": true,
    "editable": true
   },
   "outputs": [
    {
     "data": {
      "text/plain": [
       "glicko2.Rating(mu=1500.000, phi=350.000, sigma=0.060)"
      ]
     },
     "execution_count": 16,
     "metadata": {},
     "output_type": "execute_result"
    }
   ],
   "source": [
    "glck.create_rating(mu=MU, phi=PHI, sigma=SIGMA)"
   ]
  },
  {
   "cell_type": "code",
   "execution_count": 17,
   "metadata": {
    "collapsed": false,
    "deletable": true,
    "editable": true
   },
   "outputs": [],
   "source": [
    "class Player(object):\n",
    "    \n",
    "    # need to maintain only historical rankings, not phi etc.\n",
    "    hist_ratings = None\n",
    "    \n",
    "    def __init__(self, player_id, periods):\n",
    "        \n",
    "        self.pid = player_id\n",
    "        self.hist_ratings = pd.DataFrame(\n",
    "            columns=race_ids, index=periods, dtype=float)\n",
    "        self.name = lookup[player_id]\n",
    "        self.rankings = {}\n",
    "        self.new_rankings = {}\n",
    "              \n",
    "    def init_ranking(self, race_id):\n",
    "#         if len(self.rankings) == 0:\n",
    "#             # no other rankings\n",
    "#             mu = MU\n",
    "#         else:\n",
    "#             # other rankings. Possibly exclude stunties? \n",
    "#             # divide PHI by the number of other ranks?\n",
    "#             # Or always start stunties at 1500?\n",
    "#             mu_vals = [v.mu for v in self.rankings.values()] + [MU]\n",
    "#             mu = np.median(mu_vals)\n",
    "#             if self.pid == 13574:\n",
    "#                 print(mu_vals, mu)\n",
    "        \n",
    "        mu = MU\n",
    "        self.rankings[race_id] = glck.create_rating(\n",
    "            mu=mu, phi=PHI, sigma=SIGMA)\n",
    "        \n",
    "        return self.rankings[race_id]\n",
    "    \n",
    "    def end_ranking_period(self, date):\n",
    "        \n",
    "        # copy new rankings\n",
    "        for race in self.hist_ratings.columns:\n",
    "            if (race in self.rankings) and (race not in self.new_rankings):\n",
    "                self.rankings[race] = self.decay(race)\n",
    "            elif race in self.new_rankings:\n",
    "                self.rankings[race] = self.new_rankings[race]\n",
    "                \n",
    "        # delete temp ranks\n",
    "        self.new_rankings = {}\n",
    "        \n",
    "        # fill historical with rankings.\n",
    "        self.hist_ratings.loc[date] = [self.rate(c) for c in self.hist_ratings.columns]\n",
    "        \n",
    "    def rate(self, race):\n",
    "        \n",
    "        if race not in self.rankings:\n",
    "            return np.nan\n",
    "        \n",
    "        else:\n",
    "            q = self.rankings[race]\n",
    "            return q.mu - 2.5 * q.phi\n",
    "        \n",
    "    def decay(self, race):\n",
    "        \n",
    "        # transform into glicko space...\n",
    "        dnp = glck.scale_down(self.rankings[race])\n",
    "        \n",
    "        # increment phi\n",
    "        phi_star = math.sqrt(min(PHI, dnp.phi ** 2 + dnp.sigma ** 2))\n",
    "                \n",
    "        return glck.scale_up(\n",
    "            glck.create_rating(mu=dnp.mu, phi=phi_star, sigma=dnp.sigma))"
   ]
  },
  {
   "cell_type": "code",
   "execution_count": 18,
   "metadata": {
    "collapsed": false,
    "deletable": true,
    "editable": true
   },
   "outputs": [],
   "source": [
    "cols_home = [\"HomeCoachNAFid\", \"HomeRace\", \"goalshome\"]\n",
    "cols_away = [\"AwayCoachNAFid\", \"AwayRace\", \"goalsaway\"]\n",
    "\n",
    "tmp = naf_data[cols_home + cols_away].copy()\n",
    "tmp2 = naf_data[cols_away + cols_home].copy()\n",
    "\n",
    "tmp2.columns = tmp.columns"
   ]
  },
  {
   "cell_type": "code",
   "execution_count": 19,
   "metadata": {
    "collapsed": true,
    "deletable": true,
    "editable": true
   },
   "outputs": [],
   "source": [
    "rank_data = pd.concat([tmp, tmp2])"
   ]
  },
  {
   "cell_type": "code",
   "execution_count": 20,
   "metadata": {
    "collapsed": false,
    "deletable": true,
    "editable": true
   },
   "outputs": [],
   "source": [
    "diff = (rank_data.goalshome - rank_data.goalsaway)\n",
    "win = diff > 0\n",
    "draw = diff == 0\n",
    "rank_data[\"result\"] = 0 + (0.5 * draw) + (1.0 * win)"
   ]
  },
  {
   "cell_type": "code",
   "execution_count": 21,
   "metadata": {
    "collapsed": false,
    "deletable": true,
    "editable": true
   },
   "outputs": [],
   "source": [
    "grouped_games = rank_data.groupby(pd.Grouper(freq='M'))"
   ]
  },
  {
   "cell_type": "code",
   "execution_count": 22,
   "metadata": {
    "collapsed": false,
    "deletable": true,
    "editable": true
   },
   "outputs": [],
   "source": [
    "rank_periods = [p for p, _ in grouped_games]"
   ]
  },
  {
   "cell_type": "code",
   "execution_count": 23,
   "metadata": {
    "collapsed": true
   },
   "outputs": [],
   "source": [
    "ranking_data = dict()"
   ]
  },
  {
   "cell_type": "code",
   "execution_count": 24,
   "metadata": {
    "collapsed": false
   },
   "outputs": [
    {
     "name": "stdout",
     "output_type": "stream",
     "text": [
      "2004-01-31 00:00:00\n",
      "2005-01-31 00:00:00\n",
      "2006-01-31 00:00:00\n",
      "2007-01-31 00:00:00\n",
      "2008-01-31 00:00:00\n",
      "2009-01-31 00:00:00\n",
      "2010-01-31 00:00:00\n",
      "2011-01-31 00:00:00\n",
      "2012-01-31 00:00:00\n",
      "2013-01-31 00:00:00\n",
      "2014-01-31 00:00:00\n",
      "2015-01-31 00:00:00\n",
      "2016-01-31 00:00:00\n",
      "2017-01-31 00:00:00\n",
      "CPU times: user 2min 50s, sys: 567 ms, total: 2min 50s\n",
      "Wall time: 2min 50s\n"
     ]
    }
   ],
   "source": [
    "%%time\n",
    "for period, x in grouped_games:\n",
    "    \n",
    "    if period.month == 1:\n",
    "        print(period)\n",
    "        \n",
    "    for xid in x.HomeCoachNAFid.unique():\n",
    "        if xid not in ranking_data:\n",
    "            ranking_data[xid] = Player(xid, rank_periods)\n",
    "    \n",
    "    # group by player\n",
    "    grped = x.groupby([\"HomeCoachNAFid\", \"HomeRace\"])\n",
    "    \n",
    "    # first run through all players who have played in this period\n",
    "    for (player, race), data in grped:\n",
    "        \n",
    "        # if new race\n",
    "        if race not in ranking_data[player].rankings:\n",
    "                    \n",
    "            ranking_data[player].rankings[race] = glck.create_rating(\n",
    "                mu=MU, phi=PHI, sigma=SIGMA)\n",
    "            \n",
    "        series = list()\n",
    "\n",
    "        for opp_id, opp_race, result in zip(\n",
    "            data.AwayCoachNAFid, data.AwayRace, data.result):\n",
    "            \n",
    "            # opponent ranking?\n",
    "            if opp_race not in ranking_data[opp_id].rankings:\n",
    "                ranking_data[opp_id].rankings[opp_race] = glck.create_rating(\n",
    "                    mu=MU, phi=PHI, sigma=SIGMA)\n",
    "            \n",
    "            series.append(\n",
    "                (result, ranking_data[opp_id].rankings[opp_race]))\n",
    "        \n",
    "        ranking_data[player].new_rankings[race] = glck.rate(\n",
    "            ranking_data[player].rankings[race], series)\n",
    "        \n",
    "    # end all ranking periods.\n",
    "    for k, v in ranking_data.items():\n",
    "        v.end_ranking_period(period)"
   ]
  },
  {
   "cell_type": "code",
   "execution_count": 25,
   "metadata": {
    "collapsed": true,
    "deletable": true,
    "editable": true
   },
   "outputs": [],
   "source": [
    "import matplotlib.pyplot as plt\n",
    "%matplotlib inline"
   ]
  },
  {
   "cell_type": "code",
   "execution_count": 26,
   "metadata": {
    "collapsed": true,
    "deletable": true,
    "editable": true
   },
   "outputs": [],
   "source": [
    "current_ratings = {}\n",
    "\n",
    "for key, value in ranking_data.items():\n",
    "    if value.name is np.nan:\n",
    "        continue\n",
    "    current_ratings[value.name] = value.hist_ratings.iloc[-1]\n",
    "    "
   ]
  },
  {
   "cell_type": "code",
   "execution_count": 27,
   "metadata": {
    "collapsed": false,
    "deletable": true,
    "editable": true
   },
   "outputs": [],
   "source": [
    "df_current_ratings = pd.DataFrame(pd.concat(current_ratings, names=[\"coach\", \"race\"]))\n",
    "df_current_ratings.columns = [\"rating\"]"
   ]
  },
  {
   "cell_type": "code",
   "execution_count": 28,
   "metadata": {
    "collapsed": false,
    "deletable": true,
    "editable": true
   },
   "outputs": [],
   "source": [
    "df_current_ratings.rating\n",
    "df_current_ratings.rating.dropna(inplace=True)"
   ]
  },
  {
   "cell_type": "code",
   "execution_count": 29,
   "metadata": {
    "collapsed": false,
    "deletable": true,
    "editable": true
   },
   "outputs": [],
   "source": [
    "df_current_ratings = df_current_ratings.rating.astype(\"float\")"
   ]
  },
  {
   "cell_type": "code",
   "execution_count": 30,
   "metadata": {
    "collapsed": false,
    "deletable": true,
    "editable": true
   },
   "outputs": [],
   "source": [
    "df_current_ratings = df_current_ratings[~np.isnan(df_current_ratings)]"
   ]
  },
  {
   "cell_type": "code",
   "execution_count": 31,
   "metadata": {
    "collapsed": false,
    "deletable": true,
    "editable": true
   },
   "outputs": [],
   "source": [
    "df_current_ratings = df_current_ratings.sort_values(ascending=False)"
   ]
  },
  {
   "cell_type": "code",
   "execution_count": 32,
   "metadata": {
    "collapsed": false,
    "deletable": true,
    "editable": true
   },
   "outputs": [
    {
     "data": {
      "text/plain": [
       "11777"
      ]
     },
     "execution_count": 32,
     "metadata": {},
     "output_type": "execute_result"
    }
   ],
   "source": [
    "inv_lookup[\"Purplegoo\"]"
   ]
  },
  {
   "cell_type": "code",
   "execution_count": 33,
   "metadata": {
    "collapsed": false,
    "deletable": true,
    "editable": true
   },
   "outputs": [],
   "source": [
    "x = ranking_data[inv_lookup[\"Jimjimany\"]]"
   ]
  },
  {
   "cell_type": "code",
   "execution_count": 34,
   "metadata": {
    "collapsed": false,
    "deletable": true,
    "editable": true
   },
   "outputs": [
    {
     "data": {
      "text/plain": [
       "13574"
      ]
     },
     "execution_count": 34,
     "metadata": {},
     "output_type": "execute_result"
    }
   ],
   "source": [
    "inv_lookup[\"Polemarch\"]"
   ]
  },
  {
   "cell_type": "code",
   "execution_count": 35,
   "metadata": {
    "collapsed": false,
    "deletable": true,
    "editable": true
   },
   "outputs": [
    {
     "data": {
      "text/plain": [
       "{'Norse': glicko2.Rating(mu=1757.339, phi=154.962, sigma=0.060),\n",
       " 'Slann': glicko2.Rating(mu=1126.803, phi=238.444, sigma=0.060)}"
      ]
     },
     "execution_count": 35,
     "metadata": {},
     "output_type": "execute_result"
    }
   ],
   "source": [
    "ranking_data[13574].rankings"
   ]
  },
  {
   "cell_type": "code",
   "execution_count": 36,
   "metadata": {
    "collapsed": false,
    "deletable": true,
    "editable": true
   },
   "outputs": [
    {
     "data": {
      "text/plain": [
       "{'Chaos Dwarves': glicko2.Rating(mu=2067.055, phi=162.702, sigma=0.060),\n",
       " 'Norse': glicko2.Rating(mu=1727.158, phi=139.425, sigma=0.060),\n",
       " 'Orc': glicko2.Rating(mu=1645.040, phi=180.802, sigma=0.060),\n",
       " 'Underworld': glicko2.Rating(mu=1882.814, phi=167.516, sigma=0.060)}"
      ]
     },
     "execution_count": 36,
     "metadata": {},
     "output_type": "execute_result"
    }
   ],
   "source": [
    "ranking_data[7084].rankings"
   ]
  },
  {
   "cell_type": "code",
   "execution_count": 37,
   "metadata": {
    "collapsed": false,
    "deletable": true,
    "editable": true
   },
   "outputs": [
    {
     "data": {
      "text/plain": [
       "coach                     race         \n",
       "Pipey                     Norse            1739.736351\n",
       "Jimjimany                 Wood Elves       1726.571819\n",
       "zoul                      Dark Elves       1715.508911\n",
       "Pipey                     Undead           1709.462950\n",
       "Karaak                    Lizardmen        1707.165347\n",
       "Joemanji                  Lizardmen        1700.737018\n",
       "AndyDavo                  Dark Elves       1697.842513\n",
       "Tank                      Wood Elves       1697.616922\n",
       "kfoged                    Dark Elves       1696.839063\n",
       "delevus                   Amazons          1695.943626\n",
       "Harti                     Lizardmen        1695.632988\n",
       "                          Dark Elves       1695.436931\n",
       "Purplegoo                 Humans           1693.223645\n",
       "Phoenix11                 Dark Elves       1690.944205\n",
       "Dirold                    Dark Elves       1690.504690\n",
       "Joemanji                  Undead           1688.180987\n",
       "Tripleskull               Wood Elves       1685.033338\n",
       "Harti                     Chaos Dwarves    1683.879178\n",
       "Spartako                  Wood Elves       1680.693561\n",
       "Matt_le_Fou               Amazons          1679.369586\n",
       "Podfrey                   Dwarves          1674.174180\n",
       "                          Amazons          1673.177018\n",
       "Purplegoo                 Wood Elves       1672.978144\n",
       "mubo                      Dark Elves       1672.902090\n",
       "Beppe                     Undead           1672.264892\n",
       "bourpif                   Undead           1671.333828\n",
       "Petew                     Dark Elves       1670.681900\n",
       "Duke_Luthor_Von_Hawkfire  Skaven           1667.991312\n",
       "Justicium                 Undead           1666.458239\n",
       "Planlos                   Lizardmen        1665.000093\n",
       "Name: rating, dtype: float64"
      ]
     },
     "execution_count": 37,
     "metadata": {},
     "output_type": "execute_result"
    }
   ],
   "source": [
    "df_current_ratings[:30]"
   ]
  },
  {
   "cell_type": "markdown",
   "metadata": {
    "deletable": true,
    "editable": true
   },
   "source": [
    "## Plot historical stats of some players\n",
    "\n",
    "Issue- need to make mu stickier to slow down changes\n",
    "\n",
    "Lower volatility?"
   ]
  },
  {
   "cell_type": "code",
   "execution_count": 38,
   "metadata": {
    "collapsed": true,
    "deletable": true,
    "editable": true
   },
   "outputs": [],
   "source": [
    "import seaborn as sns"
   ]
  },
  {
   "cell_type": "code",
   "execution_count": 39,
   "metadata": {
    "collapsed": false,
    "deletable": true,
    "editable": true
   },
   "outputs": [
    {
     "data": {
      "text/plain": [
       "5290"
      ]
     },
     "execution_count": 39,
     "metadata": {},
     "output_type": "execute_result"
    }
   ],
   "source": [
    "inv_lookup[\"Pipey\"]"
   ]
  },
  {
   "cell_type": "code",
   "execution_count": 40,
   "metadata": {
    "collapsed": false,
    "deletable": true,
    "editable": true
   },
   "outputs": [
    {
     "data": {
      "text/plain": [
       "<matplotlib.legend.Legend at 0x7fe02e472128>"
      ]
     },
     "execution_count": 40,
     "metadata": {},
     "output_type": "execute_result"
    },
    {
     "data": {
      "image/png": "[encoded data removed]",
      "text/plain": [
       "<matplotlib.figure.Figure at 0x7fe02e4a85f8>"
      ]
     },
     "metadata": {},
     "output_type": "display_data"
    }
   ],
   "source": [
    "fig, ax = plt.subplots(figsize=(10, 5))\n",
    "ax.plot(ranking_data[12403].hist_ratings[\"Wood Elves\"], label=\"Jim WE\")\n",
    "ax.plot(ranking_data[5290].hist_ratings[\"Norse\"], label=\"Pip Norse\")\n",
    "ax.plot(ranking_data[3312].hist_ratings[\"Undead\"], label=\"Joe Und\")\n",
    "ax.plot(ranking_data[11777].hist_ratings[\"Vampires\"], label=\"Phil Vamps\")\n",
    "ax.plot(ranking_data[13409].hist_ratings[\"Dark Elves\"], label=\"Nick DE\")\n",
    "ax.plot(ranking_data[149].hist_ratings[\"Amazons\"], label=\"GP Amaz\")\n",
    "ax.legend(loc=3)"
   ]
  },
  {
   "cell_type": "code",
   "execution_count": 41,
   "metadata": {
    "collapsed": false,
    "deletable": true,
    "editable": true
   },
   "outputs": [
    {
     "data": {
      "text/plain": [
       "<matplotlib.axes._subplots.AxesSubplot at 0x7fe02e4a80b8>"
      ]
     },
     "execution_count": 41,
     "metadata": {},
     "output_type": "execute_result"
    },
    {
     "data": {
      "image/png": "[encoded data removed]",
      "text/plain": [
       "<matplotlib.figure.Figure at 0x7fe02c3b5860>"
      ]
     },
     "metadata": {},
     "output_type": "display_data"
    }
   ],
   "source": [
    "sns.distplot(df_current_ratings)"
   ]
  },
  {
   "cell_type": "code",
   "execution_count": 42,
   "metadata": {
    "collapsed": false,
    "deletable": true,
    "editable": true
   },
   "outputs": [
    {
     "data": {
      "text/plain": [
       "coach       Pipey\n",
       "race        Norse\n",
       "rating    1739.74\n",
       "Name: 0, dtype: object"
      ]
     },
     "execution_count": 42,
     "metadata": {},
     "output_type": "execute_result"
    }
   ],
   "source": [
    "df_current_ratings.reset_index().iloc[0]"
   ]
  },
  {
   "cell_type": "code",
   "execution_count": 43,
   "metadata": {
    "collapsed": false,
    "deletable": true,
    "editable": true
   },
   "outputs": [
    {
     "data": {
      "text/plain": [
       "<matplotlib.legend.Legend at 0x7fe02c2a8a90>"
      ]
     },
     "execution_count": 43,
     "metadata": {},
     "output_type": "execute_result"
    },
    {
     "data": {
      "image/png": "[encoded data removed]",
      "text/plain": [
       "<matplotlib.figure.Figure at 0x7fe02c331828>"
      ]
     },
     "metadata": {},
     "output_type": "display_data"
    }
   ],
   "source": [
    "fig, ax = plt.subplots(figsize=(10, 5))\n",
    "\n",
    "for i in range(5):\n",
    "    p = df_current_ratings.reset_index().iloc[i]\n",
    "    pid = inv_lookup[p.coach]\n",
    "    ax.plot(ranking_data[pid].hist_ratings[p.race], \n",
    "            label=\"{0}: {1}\".format(p.coach, p.race))\n",
    "ax.legend(loc=3)"
   ]
  },
  {
   "cell_type": "code",
   "execution_count": null,
   "metadata": {
    "collapsed": true,
    "deletable": true,
    "editable": true
   },
   "outputs": [],
   "source": []
  },
  {
   "cell_type": "code",
   "execution_count": null,
   "metadata": {
    "collapsed": true
   },
   "outputs": [],
   "source": []
  }
 ],
 "metadata": {
  "kernelspec": {
   "display_name": "Python 3",
   "language": "python",
   "name": "python3"
  },
  "language_info": {
   "codemirror_mode": {
    "name": "ipython",
    "version": 3
   },
   "file_extension": ".py",
   "mimetype": "text/x-python",
   "name": "python",
   "nbconvert_exporter": "python",
   "pygments_lexer": "ipython3",
   "version": "3.5.2"
  }
 },
 "nbformat": 4,
 "nbformat_minor": 0
}
