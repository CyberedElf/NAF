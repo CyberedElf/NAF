{
 "cells": [
  {
   "cell_type": "code",
   "execution_count": 1,
   "metadata": {
    "collapsed": true,
    "deletable": true,
    "editable": true
   },
   "outputs": [],
   "source": [
    "import glicko2 as Glicko"
   ]
  },
  {
   "cell_type": "code",
   "execution_count": 2,
   "metadata": {
    "collapsed": true
   },
   "outputs": [],
   "source": [
    "# improbable results are likely so set tau low\n",
    "tau = 0.2\n",
    "phi = 250\n",
    "sigma = 0.1\n",
    "mu_decay_factor = 0.999"
   ]
  },
  {
   "cell_type": "code",
   "execution_count": 3,
   "metadata": {
    "collapsed": false,
    "deletable": true,
    "editable": true
   },
   "outputs": [],
   "source": [
    "glck = Glicko.Glicko2(tau=tau, phi=phi, sigma=sigma)"
   ]
  },
  {
   "cell_type": "code",
   "execution_count": 4,
   "metadata": {
    "collapsed": true,
    "deletable": true,
    "editable": true
   },
   "outputs": [],
   "source": [
    "import pandas as pd\n",
    "import math\n",
    "import numpy as np"
   ]
  },
  {
   "cell_type": "code",
   "execution_count": 5,
   "metadata": {
    "collapsed": false,
    "deletable": true,
    "editable": true
   },
   "outputs": [],
   "source": [
    "naf_data = pd.read_csv(\"data/NAF_games.csv.gz\", sep=\",\", \n",
    "                       parse_dates=['date'], index_col=3)\n",
    "\n",
    "naf_data.sort_values(\"date\", inplace=True)"
   ]
  },
  {
   "cell_type": "code",
   "execution_count": 6,
   "metadata": {
    "collapsed": false,
    "deletable": true,
    "editable": true
   },
   "outputs": [
    {
     "data": {
      "text/html": [
       "<div>\n",
       "<table border=\"1\" class=\"dataframe\">\n",
       "  <thead>\n",
       "    <tr style=\"text-align: right;\">\n",
       "      <th></th>\n",
       "      <th>tournamentname</th>\n",
       "      <th>tournamentnation</th>\n",
       "      <th>tournamentcity</th>\n",
       "      <th>HomeCoachNAFname</th>\n",
       "      <th>HomeCoachNAFid</th>\n",
       "      <th>HomeRace</th>\n",
       "      <th>goalshome</th>\n",
       "      <th>AwayCoachNAFname</th>\n",
       "      <th>AwayCoachNAFid</th>\n",
       "      <th>AwayRace</th>\n",
       "      <th>goalsaway</th>\n",
       "      <th>date</th>\n",
       "    </tr>\n",
       "    <tr>\n",
       "      <th>gameid</th>\n",
       "      <th></th>\n",
       "      <th></th>\n",
       "      <th></th>\n",
       "      <th></th>\n",
       "      <th></th>\n",
       "      <th></th>\n",
       "      <th></th>\n",
       "      <th></th>\n",
       "      <th></th>\n",
       "      <th></th>\n",
       "      <th></th>\n",
       "      <th></th>\n",
       "    </tr>\n",
       "  </thead>\n",
       "  <tbody>\n",
       "    <tr>\n",
       "      <th>8572</th>\n",
       "      <td>The Dutch Open 2003</td>\n",
       "      <td>Netherlands</td>\n",
       "      <td>Amsterdam</td>\n",
       "      <td>Gorbad</td>\n",
       "      <td>152</td>\n",
       "      <td>Wood Elves</td>\n",
       "      <td>1</td>\n",
       "      <td>dolferl</td>\n",
       "      <td>126</td>\n",
       "      <td>Dark Elves</td>\n",
       "      <td>5</td>\n",
       "      <td>2003-01-02 12:00:00</td>\n",
       "    </tr>\n",
       "    <tr>\n",
       "      <th>8571</th>\n",
       "      <td>The Dutch Open 2003</td>\n",
       "      <td>Netherlands</td>\n",
       "      <td>Amsterdam</td>\n",
       "      <td>Norse</td>\n",
       "      <td>144</td>\n",
       "      <td>Dwarves</td>\n",
       "      <td>2</td>\n",
       "      <td>Skevan</td>\n",
       "      <td>136</td>\n",
       "      <td>Norse</td>\n",
       "      <td>0</td>\n",
       "      <td>2003-01-02 12:00:00</td>\n",
       "    </tr>\n",
       "    <tr>\n",
       "      <th>8557</th>\n",
       "      <td>The Dutch Open 2003</td>\n",
       "      <td>Netherlands</td>\n",
       "      <td>Amsterdam</td>\n",
       "      <td>playfulhands</td>\n",
       "      <td>148</td>\n",
       "      <td>Wood Elves</td>\n",
       "      <td>3</td>\n",
       "      <td>grep_v</td>\n",
       "      <td>142</td>\n",
       "      <td>Chaos Dwarves</td>\n",
       "      <td>2</td>\n",
       "      <td>2003-01-02 12:00:00</td>\n",
       "    </tr>\n",
       "    <tr>\n",
       "      <th>8558</th>\n",
       "      <td>The Dutch Open 2003</td>\n",
       "      <td>Netherlands</td>\n",
       "      <td>Amsterdam</td>\n",
       "      <td>madhobbit</td>\n",
       "      <td>130</td>\n",
       "      <td>Undead</td>\n",
       "      <td>1</td>\n",
       "      <td>Zy_Nox</td>\n",
       "      <td>86</td>\n",
       "      <td>Undead</td>\n",
       "      <td>1</td>\n",
       "      <td>2003-01-02 12:00:00</td>\n",
       "    </tr>\n",
       "    <tr>\n",
       "      <th>8559</th>\n",
       "      <td>The Dutch Open 2003</td>\n",
       "      <td>Netherlands</td>\n",
       "      <td>Amsterdam</td>\n",
       "      <td>Longshot</td>\n",
       "      <td>101</td>\n",
       "      <td>Wood Elves</td>\n",
       "      <td>3</td>\n",
       "      <td>Redfang</td>\n",
       "      <td>143</td>\n",
       "      <td>Dwarves</td>\n",
       "      <td>1</td>\n",
       "      <td>2003-01-02 12:00:00</td>\n",
       "    </tr>\n",
       "  </tbody>\n",
       "</table>\n",
       "</div>"
      ],
      "text/plain": [
       "             tournamentname tournamentnation tournamentcity HomeCoachNAFname  \\\n",
       "gameid                                                                         \n",
       "8572    The Dutch Open 2003      Netherlands      Amsterdam           Gorbad   \n",
       "8571    The Dutch Open 2003      Netherlands      Amsterdam            Norse   \n",
       "8557    The Dutch Open 2003      Netherlands      Amsterdam     playfulhands   \n",
       "8558    The Dutch Open 2003      Netherlands      Amsterdam        madhobbit   \n",
       "8559    The Dutch Open 2003      Netherlands      Amsterdam         Longshot   \n",
       "\n",
       "        HomeCoachNAFid    HomeRace  goalshome AwayCoachNAFname  \\\n",
       "gameid                                                           \n",
       "8572               152  Wood Elves          1          dolferl   \n",
       "8571               144     Dwarves          2           Skevan   \n",
       "8557               148  Wood Elves          3           grep_v   \n",
       "8558               130      Undead          1           Zy_Nox   \n",
       "8559               101  Wood Elves          3          Redfang   \n",
       "\n",
       "        AwayCoachNAFid       AwayRace  goalsaway                date  \n",
       "gameid                                                                \n",
       "8572               126     Dark Elves          5 2003-01-02 12:00:00  \n",
       "8571               136          Norse          0 2003-01-02 12:00:00  \n",
       "8557               142  Chaos Dwarves          2 2003-01-02 12:00:00  \n",
       "8558                86         Undead          1 2003-01-02 12:00:00  \n",
       "8559               143        Dwarves          1 2003-01-02 12:00:00  "
      ]
     },
     "execution_count": 6,
     "metadata": {},
     "output_type": "execute_result"
    }
   ],
   "source": [
    "naf_data.head()"
   ]
  },
  {
   "cell_type": "code",
   "execution_count": 7,
   "metadata": {
    "collapsed": false
   },
   "outputs": [],
   "source": [
    "home = naf_data[[\"HomeCoachNAFid\", \"HomeCoachNAFname\"]].drop_duplicates()\n",
    "away = naf_data[[\"AwayCoachNAFid\", \"AwayCoachNAFname\"]].drop_duplicates()\n",
    "away.columns = home.columns"
   ]
  },
  {
   "cell_type": "code",
   "execution_count": 8,
   "metadata": {
    "collapsed": false
   },
   "outputs": [],
   "source": [
    "# create lookup table\n",
    "# inefficient, but hey ho\n",
    "dd = pd.concat([home, away], axis=0)\n",
    "dd= dd.set_index(\"HomeCoachNAFid\")"
   ]
  },
  {
   "cell_type": "code",
   "execution_count": 9,
   "metadata": {
    "collapsed": false
   },
   "outputs": [],
   "source": [
    "lookup = dd.to_dict()[\"HomeCoachNAFname\"]"
   ]
  },
  {
   "cell_type": "code",
   "execution_count": 10,
   "metadata": {
    "collapsed": false,
    "deletable": true,
    "editable": true
   },
   "outputs": [],
   "source": [
    "ranking_periods = pd.date_range(naf_data.iloc[0].date - pd.offsets.MonthBegin(1), \n",
    "                                naf_data.iloc[-1].date + pd.offsets.MonthBegin(1), \n",
    "                                freq='1M')"
   ]
  },
  {
   "cell_type": "code",
   "execution_count": 11,
   "metadata": {
    "collapsed": false,
    "deletable": true,
    "editable": true
   },
   "outputs": [],
   "source": [
    "counter=0\n",
    "ranking_data = dict()\n",
    "\n",
    "for start, stop in zip(ranking_periods[:-1], ranking_periods[1:]):\n",
    "    \n",
    "    new_ranking = dict()\n",
    "    \n",
    "    start_ix = naf_data.date.searchsorted(start)[0]\n",
    "    stop_ix = naf_data.date.searchsorted(stop)[0]\n",
    "    \n",
    "    # extract just games in this period\n",
    "    d = naf_data[start_ix:stop_ix]\n",
    "    \n",
    "    # drop irrelevent fields\n",
    "    x = d.drop([\"tournamentname\", \"tournamentnation\", \"tournamentcity\", \n",
    "                \"HomeCoachNAFname\", \"AwayCoachNAFname\", \"date\"], axis=1).copy()\n",
    "    \n",
    "    # duplicate- as we have to handle both players\n",
    "    y = x.ix[:, [3, 4, 5, 0, 1, 2]].copy()\n",
    "    y.columns = x.columns\n",
    "    x = pd.concat([x, y], axis=0)\n",
    "\n",
    "    # create new result column\n",
    "    x[\"result\"] = np.where(x.goalshome > x.goalsaway, 1, \n",
    "                           np.where(x.goalshome < x.goalsaway, 0, 0.5)) \n",
    "    \n",
    "    # group by player\n",
    "    grped = x.groupby(\"HomeCoachNAFid\")\n",
    "    \n",
    "    # first run through all players who have played in this period\n",
    "    for player in grped.groups:\n",
    "        \n",
    "        new_ranking[player] = dict()\n",
    "        \n",
    "        # all games played by player X\n",
    "        data = grped.get_group(player)\n",
    "        \n",
    "        # if new player...\n",
    "        if player not in ranking_data:\n",
    "            ranking_data[player] = dict()\n",
    "            \n",
    "        # now loop through races...\n",
    "        byrace = data.groupby(\"HomeRace\")\n",
    "        for played_race in byrace.groups:\n",
    "\n",
    "            games = byrace.get_group(played_race)\n",
    "            series = list()\n",
    "\n",
    "            for oppo_id, oppo_race, result in zip(games.AwayCoachNAFid, \n",
    "                                                  games.AwayRace, \n",
    "                                                  games.result):\n",
    "\n",
    "                if oppo_id not in ranking_data:\n",
    "                    ranking_data[oppo_id] = dict()\n",
    "\n",
    "                if oppo_race not in ranking_data[oppo_id]:\n",
    "                    ranking_data[oppo_id][oppo_race] = glck.create_rating()\n",
    "\n",
    "                series.append((result, ranking_data[oppo_id][oppo_race]))\n",
    "\n",
    "            # now rate\n",
    "            if played_race not in ranking_data[player]:\n",
    "                ranking_data[player][played_race] = glck.create_rating()\n",
    "\n",
    "            new_ranking[player][played_race] = glck.rate(ranking_data[player][played_race], series)\n",
    "\n",
    "    # now through all players: if not played then increment their phi\n",
    "    for player, rankings in ranking_data.items():\n",
    "        \n",
    "        assert len(rankings) > 0\n",
    "            \n",
    "        for race, rank in rankings.items():\n",
    "            played = False\n",
    "        \n",
    "            if player not in new_ranking:\n",
    "                # if not in new ranking, then cannot have played...\n",
    "                new_ranking[player] = dict()\n",
    "                \n",
    "            if player in grped.groups:\n",
    "                # might have played\n",
    "                data = grped.get_group(player)\n",
    "                byrace = data.groupby(\"HomeRace\")\n",
    "                if race in byrace.groups:\n",
    "                    played = True\n",
    "                \n",
    "            if not played:\n",
    "                # if he/she didn't play\n",
    "                \n",
    "                # transform into glicko space...\n",
    "                dnp = glck.scale_down(ranking_data[player][race])\n",
    "                \n",
    "                # increment phi\n",
    "                phi_star = math.sqrt(dnp.phi ** 2 + dnp.sigma ** 2)\n",
    "                \n",
    "                # shrink mu\n",
    "                mu_star = dnp.mu * mu_decay_factor\n",
    "                \n",
    "                new_ranking[player][race] = glck.scale_up(\n",
    "                    glck.create_rating(mu=mu_star, phi=phi_star, sigma=dnp.sigma))\n",
    "            \n",
    "#                 if (player == 149) and (race == \"Amazons\"):\n",
    "#                     print(start, race, new_ranking[player][race])\n",
    "                \n",
    "    ranking_data = new_ranking\n",
    "    counter += 1"
   ]
  },
  {
   "cell_type": "markdown",
   "metadata": {},
   "source": [
    "## Parse data structure into something more tabular"
   ]
  },
  {
   "cell_type": "code",
   "execution_count": 12,
   "metadata": {
    "collapsed": false,
    "deletable": true,
    "editable": true
   },
   "outputs": [],
   "source": [
    "d = list()\n",
    "\n",
    "# for each player\n",
    "for key, value in ranking_data.items():\n",
    "    \n",
    "    races = value.keys()\n",
    "    pid = lookup.get(key, str(key))\n",
    "    \n",
    "    index = pd.MultiIndex.from_tuples([(pid, r) for i, r in enumerate(races)])\n",
    "    \n",
    "    df = pd.DataFrame(index=index, columns=[\"mu\", \"phi\", \"sigma\"])\n",
    "    \n",
    "    # for each race played...\n",
    "    for race in races:\n",
    "        q = ranking_data[key][race]\n",
    "        df.loc[pid, race] = (q.mu, q.phi, q.sigma)\n",
    "    d.append(df)"
   ]
  },
  {
   "cell_type": "code",
   "execution_count": 13,
   "metadata": {
    "collapsed": false,
    "deletable": true,
    "editable": true
   },
   "outputs": [],
   "source": [
    "combined_rankings = pd.concat(d)"
   ]
  },
  {
   "cell_type": "code",
   "execution_count": 14,
   "metadata": {
    "collapsed": true,
    "deletable": true,
    "editable": true
   },
   "outputs": [],
   "source": [
    "combined_rankings[\"rating\"] = combined_rankings.mu.values - 2*combined_rankings.phi.values"
   ]
  },
  {
   "cell_type": "code",
   "execution_count": 15,
   "metadata": {
    "collapsed": false
   },
   "outputs": [],
   "source": [
    "combined_rankings = combined_rankings.apply(pd.to_numeric)"
   ]
  },
  {
   "cell_type": "code",
   "execution_count": 16,
   "metadata": {
    "collapsed": true,
    "deletable": true,
    "editable": true
   },
   "outputs": [],
   "source": [
    "combined_rankings.sort_values(\"rating\", inplace=True, ascending=False)"
   ]
  },
  {
   "cell_type": "code",
   "execution_count": 17,
   "metadata": {
    "collapsed": false,
    "deletable": true,
    "editable": true
   },
   "outputs": [
    {
     "data": {
      "text/html": [
       "<div>\n",
       "<table border=\"1\" class=\"dataframe\">\n",
       "  <thead>\n",
       "    <tr style=\"text-align: right;\">\n",
       "      <th></th>\n",
       "      <th></th>\n",
       "      <th>mu</th>\n",
       "      <th>phi</th>\n",
       "      <th>sigma</th>\n",
       "      <th>rating</th>\n",
       "    </tr>\n",
       "  </thead>\n",
       "  <tbody>\n",
       "    <tr>\n",
       "      <th>Joemanji</th>\n",
       "      <th>Lizardmen</th>\n",
       "      <td>1883.976055</td>\n",
       "      <td>96.928026</td>\n",
       "      <td>0.099964</td>\n",
       "      <td>1690.120003</td>\n",
       "    </tr>\n",
       "    <tr>\n",
       "      <th>Pipey</th>\n",
       "      <th>Norse</th>\n",
       "      <td>1896.265500</td>\n",
       "      <td>103.561966</td>\n",
       "      <td>0.099986</td>\n",
       "      <td>1689.141569</td>\n",
       "    </tr>\n",
       "    <tr>\n",
       "      <th>Purplegoo</th>\n",
       "      <th>Humans</th>\n",
       "      <td>1870.363111</td>\n",
       "      <td>97.819967</td>\n",
       "      <td>0.099950</td>\n",
       "      <td>1674.723178</td>\n",
       "    </tr>\n",
       "    <tr>\n",
       "      <th>Pipey</th>\n",
       "      <th>Undead</th>\n",
       "      <td>1862.065135</td>\n",
       "      <td>98.583749</td>\n",
       "      <td>0.099996</td>\n",
       "      <td>1664.897637</td>\n",
       "    </tr>\n",
       "    <tr>\n",
       "      <th>AndyDavo</th>\n",
       "      <th>Dark Elves</th>\n",
       "      <td>1860.328315</td>\n",
       "      <td>97.938621</td>\n",
       "      <td>0.100019</td>\n",
       "      <td>1664.451073</td>\n",
       "    </tr>\n",
       "    <tr>\n",
       "      <th>kfoged</th>\n",
       "      <th>Dark Elves</th>\n",
       "      <td>1865.735696</td>\n",
       "      <td>100.817773</td>\n",
       "      <td>0.099956</td>\n",
       "      <td>1664.100150</td>\n",
       "    </tr>\n",
       "    <tr>\n",
       "      <th>Purplegoo</th>\n",
       "      <th>Vampires</th>\n",
       "      <td>1897.616338</td>\n",
       "      <td>120.464957</td>\n",
       "      <td>0.099992</td>\n",
       "      <td>1656.686425</td>\n",
       "    </tr>\n",
       "    <tr>\n",
       "      <th>Karaak</th>\n",
       "      <th>Lizardmen</th>\n",
       "      <td>1924.275936</td>\n",
       "      <td>133.910555</td>\n",
       "      <td>0.099993</td>\n",
       "      <td>1656.454826</td>\n",
       "    </tr>\n",
       "    <tr>\n",
       "      <th>Jimjimany</th>\n",
       "      <th>Wood Elves</th>\n",
       "      <td>1847.309822</td>\n",
       "      <td>97.021684</td>\n",
       "      <td>0.099926</td>\n",
       "      <td>1653.266453</td>\n",
       "    </tr>\n",
       "    <tr>\n",
       "      <th>bourpif</th>\n",
       "      <th>Undead</th>\n",
       "      <td>1845.417371</td>\n",
       "      <td>96.441915</td>\n",
       "      <td>0.099984</td>\n",
       "      <td>1652.533541</td>\n",
       "    </tr>\n",
       "    <tr>\n",
       "      <th>Tank</th>\n",
       "      <th>Wood Elves</th>\n",
       "      <td>1936.803886</td>\n",
       "      <td>142.479746</td>\n",
       "      <td>0.100007</td>\n",
       "      <td>1651.844393</td>\n",
       "    </tr>\n",
       "    <tr>\n",
       "      <th>Beppe</th>\n",
       "      <th>Dark Elves</th>\n",
       "      <td>1917.667773</td>\n",
       "      <td>133.510997</td>\n",
       "      <td>0.100004</td>\n",
       "      <td>1650.645779</td>\n",
       "    </tr>\n",
       "    <tr>\n",
       "      <th>Phoenix11</th>\n",
       "      <th>Dark Elves</th>\n",
       "      <td>1845.195208</td>\n",
       "      <td>99.579554</td>\n",
       "      <td>0.099970</td>\n",
       "      <td>1646.036100</td>\n",
       "    </tr>\n",
       "    <tr>\n",
       "      <th>zoul</th>\n",
       "      <th>Dark Elves</th>\n",
       "      <td>1891.759931</td>\n",
       "      <td>125.075945</td>\n",
       "      <td>0.100007</td>\n",
       "      <td>1641.608042</td>\n",
       "    </tr>\n",
       "    <tr>\n",
       "      <th>Simon_ACP</th>\n",
       "      <th>Dark Elves</th>\n",
       "      <td>1821.620973</td>\n",
       "      <td>95.826440</td>\n",
       "      <td>0.099993</td>\n",
       "      <td>1629.968092</td>\n",
       "    </tr>\n",
       "    <tr>\n",
       "      <th>Harti</th>\n",
       "      <th>Dark Elves</th>\n",
       "      <td>1827.659142</td>\n",
       "      <td>100.276357</td>\n",
       "      <td>0.099939</td>\n",
       "      <td>1627.106427</td>\n",
       "    </tr>\n",
       "    <tr>\n",
       "      <th>garrick</th>\n",
       "      <th>Dark Elves</th>\n",
       "      <td>1799.740383</td>\n",
       "      <td>88.388149</td>\n",
       "      <td>0.099963</td>\n",
       "      <td>1622.964084</td>\n",
       "    </tr>\n",
       "    <tr>\n",
       "      <th>delevus</th>\n",
       "      <th>Amazons</th>\n",
       "      <td>1870.730604</td>\n",
       "      <td>124.929860</td>\n",
       "      <td>0.099950</td>\n",
       "      <td>1620.870884</td>\n",
       "    </tr>\n",
       "    <tr>\n",
       "      <th>Harti</th>\n",
       "      <th>Chaos Dwarves</th>\n",
       "      <td>1817.125622</td>\n",
       "      <td>99.531578</td>\n",
       "      <td>0.099919</td>\n",
       "      <td>1618.062465</td>\n",
       "    </tr>\n",
       "    <tr>\n",
       "      <th>Don_Vito</th>\n",
       "      <th>Slann</th>\n",
       "      <td>1897.897494</td>\n",
       "      <td>141.057128</td>\n",
       "      <td>0.100002</td>\n",
       "      <td>1615.783238</td>\n",
       "    </tr>\n",
       "    <tr>\n",
       "      <th rowspan=\"2\" valign=\"top\">Purplegoo</th>\n",
       "      <th>Slann</th>\n",
       "      <td>1853.937150</td>\n",
       "      <td>119.221222</td>\n",
       "      <td>0.100018</td>\n",
       "      <td>1615.494705</td>\n",
       "    </tr>\n",
       "    <tr>\n",
       "      <th>Wood Elves</th>\n",
       "      <td>1817.608839</td>\n",
       "      <td>101.144068</td>\n",
       "      <td>0.099949</td>\n",
       "      <td>1615.320704</td>\n",
       "    </tr>\n",
       "    <tr>\n",
       "      <th>Petew</th>\n",
       "      <th>Dark Elves</th>\n",
       "      <td>1830.807595</td>\n",
       "      <td>108.260664</td>\n",
       "      <td>0.099970</td>\n",
       "      <td>1614.286267</td>\n",
       "    </tr>\n",
       "    <tr>\n",
       "      <th>Justicium</th>\n",
       "      <th>Undead</th>\n",
       "      <td>1798.851598</td>\n",
       "      <td>92.979366</td>\n",
       "      <td>0.099951</td>\n",
       "      <td>1612.892867</td>\n",
       "    </tr>\n",
       "    <tr>\n",
       "      <th>Roller</th>\n",
       "      <th>Dwarves</th>\n",
       "      <td>1803.320199</td>\n",
       "      <td>95.507951</td>\n",
       "      <td>0.099953</td>\n",
       "      <td>1612.304297</td>\n",
       "    </tr>\n",
       "    <tr>\n",
       "      <th>Spartako</th>\n",
       "      <th>Orc</th>\n",
       "      <td>1777.885992</td>\n",
       "      <td>84.430083</td>\n",
       "      <td>0.100047</td>\n",
       "      <td>1609.025826</td>\n",
       "    </tr>\n",
       "    <tr>\n",
       "      <th>Planlos</th>\n",
       "      <th>Lizardmen</th>\n",
       "      <td>1809.294526</td>\n",
       "      <td>100.546284</td>\n",
       "      <td>0.099942</td>\n",
       "      <td>1608.201959</td>\n",
       "    </tr>\n",
       "    <tr>\n",
       "      <th>Dirold</th>\n",
       "      <th>Undead</th>\n",
       "      <td>1817.019939</td>\n",
       "      <td>105.513786</td>\n",
       "      <td>0.099927</td>\n",
       "      <td>1605.992367</td>\n",
       "    </tr>\n",
       "    <tr>\n",
       "      <th>inforthepain</th>\n",
       "      <th>Wood Elves</th>\n",
       "      <td>1802.894583</td>\n",
       "      <td>98.659634</td>\n",
       "      <td>0.099983</td>\n",
       "      <td>1605.575314</td>\n",
       "    </tr>\n",
       "    <tr>\n",
       "      <th>Dirold</th>\n",
       "      <th>Dark Elves</th>\n",
       "      <td>1807.590526</td>\n",
       "      <td>101.122859</td>\n",
       "      <td>0.099918</td>\n",
       "      <td>1605.344807</td>\n",
       "    </tr>\n",
       "  </tbody>\n",
       "</table>\n",
       "</div>"
      ],
      "text/plain": [
       "                                     mu         phi     sigma       rating\n",
       "Joemanji     Lizardmen      1883.976055   96.928026  0.099964  1690.120003\n",
       "Pipey        Norse          1896.265500  103.561966  0.099986  1689.141569\n",
       "Purplegoo    Humans         1870.363111   97.819967  0.099950  1674.723178\n",
       "Pipey        Undead         1862.065135   98.583749  0.099996  1664.897637\n",
       "AndyDavo     Dark Elves     1860.328315   97.938621  0.100019  1664.451073\n",
       "kfoged       Dark Elves     1865.735696  100.817773  0.099956  1664.100150\n",
       "Purplegoo    Vampires       1897.616338  120.464957  0.099992  1656.686425\n",
       "Karaak       Lizardmen      1924.275936  133.910555  0.099993  1656.454826\n",
       "Jimjimany    Wood Elves     1847.309822   97.021684  0.099926  1653.266453\n",
       "bourpif      Undead         1845.417371   96.441915  0.099984  1652.533541\n",
       "Tank         Wood Elves     1936.803886  142.479746  0.100007  1651.844393\n",
       "Beppe        Dark Elves     1917.667773  133.510997  0.100004  1650.645779\n",
       "Phoenix11    Dark Elves     1845.195208   99.579554  0.099970  1646.036100\n",
       "zoul         Dark Elves     1891.759931  125.075945  0.100007  1641.608042\n",
       "Simon_ACP    Dark Elves     1821.620973   95.826440  0.099993  1629.968092\n",
       "Harti        Dark Elves     1827.659142  100.276357  0.099939  1627.106427\n",
       "garrick      Dark Elves     1799.740383   88.388149  0.099963  1622.964084\n",
       "delevus      Amazons        1870.730604  124.929860  0.099950  1620.870884\n",
       "Harti        Chaos Dwarves  1817.125622   99.531578  0.099919  1618.062465\n",
       "Don_Vito     Slann          1897.897494  141.057128  0.100002  1615.783238\n",
       "Purplegoo    Slann          1853.937150  119.221222  0.100018  1615.494705\n",
       "             Wood Elves     1817.608839  101.144068  0.099949  1615.320704\n",
       "Petew        Dark Elves     1830.807595  108.260664  0.099970  1614.286267\n",
       "Justicium    Undead         1798.851598   92.979366  0.099951  1612.892867\n",
       "Roller       Dwarves        1803.320199   95.507951  0.099953  1612.304297\n",
       "Spartako     Orc            1777.885992   84.430083  0.100047  1609.025826\n",
       "Planlos      Lizardmen      1809.294526  100.546284  0.099942  1608.201959\n",
       "Dirold       Undead         1817.019939  105.513786  0.099927  1605.992367\n",
       "inforthepain Wood Elves     1802.894583   98.659634  0.099983  1605.575314\n",
       "Dirold       Dark Elves     1807.590526  101.122859  0.099918  1605.344807"
      ]
     },
     "execution_count": 17,
     "metadata": {},
     "output_type": "execute_result"
    }
   ],
   "source": [
    "combined_rankings[:30]"
   ]
  },
  {
   "cell_type": "code",
   "execution_count": 18,
   "metadata": {
    "collapsed": false,
    "deletable": true,
    "editable": true
   },
   "outputs": [
    {
     "data": {
      "text/html": [
       "<div>\n",
       "<table border=\"1\" class=\"dataframe\">\n",
       "  <thead>\n",
       "    <tr style=\"text-align: right;\">\n",
       "      <th></th>\n",
       "      <th>mu</th>\n",
       "      <th>phi</th>\n",
       "      <th>sigma</th>\n",
       "      <th>rating</th>\n",
       "    </tr>\n",
       "  </thead>\n",
       "  <tbody>\n",
       "    <tr>\n",
       "      <th>Dark Elves</th>\n",
       "      <td>1813.867132</td>\n",
       "      <td>106.262438</td>\n",
       "      <td>0.100039</td>\n",
       "      <td>1601.342257</td>\n",
       "    </tr>\n",
       "    <tr>\n",
       "      <th>Wood Elves</th>\n",
       "      <td>1790.250585</td>\n",
       "      <td>115.612083</td>\n",
       "      <td>0.099980</td>\n",
       "      <td>1559.026420</td>\n",
       "    </tr>\n",
       "    <tr>\n",
       "      <th>Humans</th>\n",
       "      <td>1724.587014</td>\n",
       "      <td>125.233543</td>\n",
       "      <td>0.099993</td>\n",
       "      <td>1474.119928</td>\n",
       "    </tr>\n",
       "    <tr>\n",
       "      <th>Undead</th>\n",
       "      <td>1686.929991</td>\n",
       "      <td>125.658301</td>\n",
       "      <td>0.099987</td>\n",
       "      <td>1435.613389</td>\n",
       "    </tr>\n",
       "    <tr>\n",
       "      <th>Skaven</th>\n",
       "      <td>1735.190143</td>\n",
       "      <td>176.694873</td>\n",
       "      <td>0.100000</td>\n",
       "      <td>1381.800397</td>\n",
       "    </tr>\n",
       "    <tr>\n",
       "      <th>Chaos Pact</th>\n",
       "      <td>1641.898958</td>\n",
       "      <td>144.544771</td>\n",
       "      <td>0.099996</td>\n",
       "      <td>1352.809417</td>\n",
       "    </tr>\n",
       "    <tr>\n",
       "      <th>Elves</th>\n",
       "      <td>1653.275529</td>\n",
       "      <td>164.046665</td>\n",
       "      <td>0.099996</td>\n",
       "      <td>1325.182200</td>\n",
       "    </tr>\n",
       "    <tr>\n",
       "      <th>Orc</th>\n",
       "      <td>1616.042062</td>\n",
       "      <td>156.775959</td>\n",
       "      <td>0.099996</td>\n",
       "      <td>1302.490145</td>\n",
       "    </tr>\n",
       "    <tr>\n",
       "      <th>Dwarves</th>\n",
       "      <td>1589.194623</td>\n",
       "      <td>211.500870</td>\n",
       "      <td>0.100000</td>\n",
       "      <td>1166.192882</td>\n",
       "    </tr>\n",
       "    <tr>\n",
       "      <th>Necromantic</th>\n",
       "      <td>1495.232233</td>\n",
       "      <td>221.432434</td>\n",
       "      <td>0.099997</td>\n",
       "      <td>1052.367366</td>\n",
       "    </tr>\n",
       "    <tr>\n",
       "      <th>Norse</th>\n",
       "      <td>1442.419480</td>\n",
       "      <td>210.903154</td>\n",
       "      <td>0.099997</td>\n",
       "      <td>1020.613171</td>\n",
       "    </tr>\n",
       "  </tbody>\n",
       "</table>\n",
       "</div>"
      ],
      "text/plain": [
       "                      mu         phi     sigma       rating\n",
       "Dark Elves   1813.867132  106.262438  0.100039  1601.342257\n",
       "Wood Elves   1790.250585  115.612083  0.099980  1559.026420\n",
       "Humans       1724.587014  125.233543  0.099993  1474.119928\n",
       "Undead       1686.929991  125.658301  0.099987  1435.613389\n",
       "Skaven       1735.190143  176.694873  0.100000  1381.800397\n",
       "Chaos Pact   1641.898958  144.544771  0.099996  1352.809417\n",
       "Elves        1653.275529  164.046665  0.099996  1325.182200\n",
       "Orc          1616.042062  156.775959  0.099996  1302.490145\n",
       "Dwarves      1589.194623  211.500870  0.100000  1166.192882\n",
       "Necromantic  1495.232233  221.432434  0.099997  1052.367366\n",
       "Norse        1442.419480  210.903154  0.099997  1020.613171"
      ]
     },
     "execution_count": 18,
     "metadata": {},
     "output_type": "execute_result"
    }
   ],
   "source": [
    "combined_rankings.xs(\"mubo\")"
   ]
  },
  {
   "cell_type": "code",
   "execution_count": 19,
   "metadata": {
    "collapsed": true
   },
   "outputs": [],
   "source": [
    "import seaborn as sns"
   ]
  },
  {
   "cell_type": "code",
   "execution_count": 20,
   "metadata": {
    "collapsed": true
   },
   "outputs": [],
   "source": [
    "%matplotlib inline"
   ]
  },
  {
   "cell_type": "code",
   "execution_count": 21,
   "metadata": {
    "collapsed": false
   },
   "outputs": [
    {
     "name": "stderr",
     "output_type": "stream",
     "text": [
      "/home/njh/miniconda3/envs/science/lib/python3.5/site-packages/statsmodels/nonparametric/kdetools.py:20: VisibleDeprecationWarning: using a non-integer number instead of an integer will result in an error in the future\n",
      "  y = X[:m/2+1] + np.r_[0,X[m/2+1:],0]*1j\n"
     ]
    },
    {
     "data": {
      "text/plain": [
       "<matplotlib.axes._subplots.AxesSubplot at 0x7f10626f9c18>"
      ]
     },
     "execution_count": 21,
     "metadata": {},
     "output_type": "execute_result"
    },
    {
     "data": {
      "image/png": "[encoded data removed]",
      "text/plain": [
       "<matplotlib.figure.Figure at 0x7f10626e6780>"
      ]
     },
     "metadata": {},
     "output_type": "display_data"
    }
   ],
   "source": [
    "sns.distplot(combined_rankings.rating)"
   ]
  },
  {
   "cell_type": "code",
   "execution_count": 22,
   "metadata": {
    "collapsed": false
   },
   "outputs": [
    {
     "name": "stderr",
     "output_type": "stream",
     "text": [
      "/home/njh/miniconda3/envs/science/lib/python3.5/site-packages/statsmodels/nonparametric/kdetools.py:20: VisibleDeprecationWarning: using a non-integer number instead of an integer will result in an error in the future\n",
      "  y = X[:m/2+1] + np.r_[0,X[m/2+1:],0]*1j\n"
     ]
    },
    {
     "data": {
      "text/plain": [
       "<matplotlib.axes._subplots.AxesSubplot at 0x7f10623a35c0>"
      ]
     },
     "execution_count": 22,
     "metadata": {},
     "output_type": "execute_result"
    },
    {
     "data": {
      "image/png": "[encoded data removed]",
      "text/plain": [
       "<matplotlib.figure.Figure at 0x7f1062389d30>"
      ]
     },
     "metadata": {},
     "output_type": "display_data"
    }
   ],
   "source": [
    "sns.distplot(combined_rankings.mu)"
   ]
  },
  {
   "cell_type": "code",
   "execution_count": 23,
   "metadata": {
    "collapsed": true,
    "deletable": true,
    "editable": true
   },
   "outputs": [],
   "source": [
    "# algorithm:\n",
    "\n",
    "# grab data in rating period. 2 months.\n",
    "\n",
    "# reshape the data so 2 x the number of rows and home/away repeated. column for w/l/d\n",
    "# 3 columns, playerID, oppoent, result\n",
    "\n",
    "# group df by playerA id. \n",
    "\n",
    "# create a matrix of all the players who compet\n",
    "\n"
   ]
  }
 ],
 "metadata": {
  "kernelspec": {
   "display_name": "Python 3",
   "language": "python",
   "name": "python3"
  },
  "language_info": {
   "codemirror_mode": {
    "name": "ipython",
    "version": 3
   },
   "file_extension": ".py",
   "mimetype": "text/x-python",
   "name": "python",
   "nbconvert_exporter": "python",
   "pygments_lexer": "ipython3",
   "version": "3.5.2"
  }
 },
 "nbformat": 4,
 "nbformat_minor": 0
}
