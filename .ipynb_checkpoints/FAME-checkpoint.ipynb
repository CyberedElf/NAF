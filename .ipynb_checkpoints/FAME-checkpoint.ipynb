{
 "cells": [
  {
   "cell_type": "code",
   "execution_count": 1,
   "metadata": {
    "collapsed": true
   },
   "outputs": [],
   "source": [
    "import numpy as np\n",
    "import pandas as pd"
   ]
  },
  {
   "cell_type": "code",
   "execution_count": 2,
   "metadata": {
    "collapsed": true
   },
   "outputs": [],
   "source": [
    "def determine_fame(a, b):\n",
    "    \n",
    "    d = a - b\n",
    "    d = np.where(d == 0, d, d/np.abs(d))\n",
    "    \n",
    "    d[a >= (2*b)] += 1\n",
    "    d[b >= (2*a)] -= 1\n",
    "    \n",
    "    return pd.Series(d)\n",
    "    \n",
    "    \n",
    "    "
   ]
  },
  {
   "cell_type": "code",
   "execution_count": 3,
   "metadata": {
    "collapsed": false
   },
   "outputs": [],
   "source": [
    "player_a = np.random.randint(1, 7, int(1e6)) + np.random.randint(1, 7, int(1e6))\n",
    "player_b = np.random.randint(1, 7, int(1e6)) + np.random.randint(1, 7, int(1e6))"
   ]
  },
  {
   "cell_type": "code",
   "execution_count": 4,
   "metadata": {
    "collapsed": false
   },
   "outputs": [
    {
     "name": "stderr",
     "output_type": "stream",
     "text": [
      "/anaconda/envs/science/lib/python3.5/site-packages/ipykernel/__main__.py:4: RuntimeWarning: invalid value encountered in true_divide\n"
     ]
    },
    {
     "data": {
      "text/plain": [
       " 1.0    0.321232\n",
       "-1.0    0.320686\n",
       "-2.0    0.122979\n",
       " 2.0    0.122627\n",
       " 0.0    0.112476\n",
       "dtype: float64"
      ]
     },
     "execution_count": 4,
     "metadata": {},
     "output_type": "execute_result"
    }
   ],
   "source": [
    "qq = determine_fame(player_a, player_b)\n",
    "qq.value_counts(True)"
   ]
  },
  {
   "cell_type": "markdown",
   "metadata": {},
   "source": [
    "## Calculate expected RRs per ko\n",
    "\n",
    "If I was doing this properly, main object would be a 0/1/2/-1/-2 and the probability of each.\n",
    "\n",
    "Then the function could return a marginalised probability, taking into account cl/ac, and kick off table results.\n",
    "\n",
    "Keep split by both / p1 / p2\n",
    "\n",
    "For TAR, % of p1, p2, both\n",
    "\n",
    "For PI, Given PI, expected number of players down / 11. Could plot bin pdf."
   ]
  },
  {
   "cell_type": "code",
   "execution_count": null,
   "metadata": {
    "collapsed": true
   },
   "outputs": [],
   "source": []
  },
  {
   "cell_type": "code",
   "execution_count": 5,
   "metadata": {
    "collapsed": false
   },
   "outputs": [],
   "source": [
    "def calculate_expected_bonus_rr(fame, mod1, mod2):\n",
    "    \n",
    "    p_a = np.random.randint(1, 4, int(1e6)) + mod1\n",
    "    p_b = np.random.randint(1, 4, int(1e6)) + mod2\n",
    "    \n",
    "    r = p_a - p_b + fame\n",
    "    \n",
    "    result = np.where(r == 0, \"both\", np.where(r > 0, \"Player A\", \"Player B\"))\n",
    "    xx = pd.Categorical(result, categories=[\"both\", \"Player A\", \"Player B\"])\n",
    "    return xx.value_counts()/xx.size"
   ]
  },
  {
   "cell_type": "code",
   "execution_count": 33,
   "metadata": {
    "collapsed": false
   },
   "outputs": [
    {
     "name": "stderr",
     "output_type": "stream",
     "text": [
      "/anaconda/envs/science/lib/python3.5/site-packages/ipykernel/__main__.py:4: RuntimeWarning: invalid value encountered in true_divide\n"
     ]
    },
    {
     "name": "stdout",
     "output_type": "stream",
     "text": [
      "Your expected RR per KO 0.270434955346\n",
      "Oppo expected RR per KO 0.129851356437\n"
     ]
    }
   ],
   "source": [
    "# compare 1 FF to 1AC.\n",
    "\n",
    "# 1 FF/0 AC vs no FF, no ACC\n",
    "c1 = determine_fame(player_a + 3, player_b)\n",
    "c1a = c1.value_counts(True)\n",
    "\n",
    "df = pd.DataFrame(index=c1a.index, columns=[\"both\", \"Player A\", \"Player B\"])\n",
    "for v, p in c1a.iteritems():\n",
    "    df.loc[v] =  p * calculate_expected_bonus_rr(v, 0, 0)\n",
    "\n",
    "q = df.sum(0)\n",
    "\n",
    "print(\"Your expected RR per KO\", (1/3) * (q[\"both\"] + q[\"Player A\"]))\n",
    "print(\"Oppo expected RR per KO\", (1/3) * (q[\"both\"] + q[\"Player B\"]))"
   ]
  },
  {
   "cell_type": "code",
   "execution_count": 34,
   "metadata": {
    "collapsed": false
   },
   "outputs": [
    {
     "name": "stderr",
     "output_type": "stream",
     "text": [
      "/anaconda/envs/science/lib/python3.5/site-packages/ipykernel/__main__.py:4: RuntimeWarning: invalid value encountered in true_divide\n"
     ]
    },
    {
     "name": "stdout",
     "output_type": "stream",
     "text": [
      "Your expected RR per KO 0.0672328738263\n",
      "Oppo expected RR per KO 0.307730654842\n"
     ]
    }
   ],
   "source": [
    "# compare 0 FF to 0AC/CL.\n",
    "\n",
    "# 0 FF/1 AC vs no FF, no ACC\n",
    "c1 = determine_fame(player_a, player_b)\n",
    "c1a = c1.value_counts(True)\n",
    "\n",
    "df = pd.DataFrame(index=c1a.index, columns=[\"both\", \"Player A\", \"Player B\"])\n",
    "for v, p in c1a.iteritems():\n",
    "    df.loc[v] =  p * calculate_expected_bonus_rr(v, 0, 0)\n",
    "\n",
    "q = df.sum(0)\n",
    "\n",
    "print(\"Your expected RR per KO\", (1/3) * (q[\"both\"] + q[\"Player A\"]))\n",
    "\n",
    "print(\"Oppo expected RR per KO\", (1/3) * (q[\"both\"] + q[\"Player B\"]))"
   ]
  },
  {
   "cell_type": "code",
   "execution_count": 29,
   "metadata": {
    "collapsed": false
   },
   "outputs": [
    {
     "name": "stderr",
     "output_type": "stream",
     "text": [
      "/anaconda/envs/science/lib/python3.5/site-packages/ipykernel/__main__.py:4: RuntimeWarning: invalid value encountered in true_divide\n"
     ]
    },
    {
     "name": "stdout",
     "output_type": "stream",
     "text": [
      "Your expected RR per KO 0.233773349206\n",
      "Oppo expected RR per KO 0.166634551696\n"
     ]
    }
   ],
   "source": [
    "# compare 0 FF to 1AC.\n",
    "\n",
    "# 0 FF/1 AC vs no FF, no ACC\n",
    "c1 = determine_fame(player_a, player_b)\n",
    "c1a = c1.value_counts(True)\n",
    "\n",
    "df = pd.DataFrame(index=c1a.index, columns=[\"both\", \"Player A\", \"Player B\"])\n",
    "for v, p in c1a.iteritems():\n",
    "    df.loc[v] =  p * calculate_expected_bonus_rr(v, 1, 0)\n",
    "\n",
    "pq = df.sum(0)\n",
    "\n",
    "# Account for cl/ac\n",
    "ww = (pq + q)/2\n",
    "\n",
    "print(\"Your expected RR per KO\", (1/3) * (ww[\"both\"] + ww[\"Player A\"]))\n",
    "\n",
    "print(\"Oppo expected RR per KO\", (1/3) * (ww[\"both\"] + ww[\"Player B\"]))"
   ]
  },
  {
   "cell_type": "code",
   "execution_count": 31,
   "metadata": {
    "collapsed": false
   },
   "outputs": [
    {
     "data": {
      "text/plain": [
       "0.014399999999999968"
      ]
     },
     "execution_count": 31,
     "metadata": {},
     "output_type": "execute_result"
    }
   ],
   "source": [
    "(0.2337 - 0.2277) + (0.175 - .1666)"
   ]
  },
  {
   "cell_type": "code",
   "execution_count": 32,
   "metadata": {
    "collapsed": false
   },
   "outputs": [
    {
     "data": {
      "text/plain": [
       "0.36"
      ]
     },
     "execution_count": 32,
     "metadata": {},
     "output_type": "execute_result"
    }
   ],
   "source": [
    "0.015 * 4 * 6"
   ]
  },
  {
   "cell_type": "code",
   "execution_count": null,
   "metadata": {
    "collapsed": true
   },
   "outputs": [],
   "source": [
    "0.015 of a RR per KO"
   ]
  }
 ],
 "metadata": {
  "kernelspec": {
   "display_name": "Python 3",
   "language": "python",
   "name": "python3"
  },
  "language_info": {
   "codemirror_mode": {
    "name": "ipython",
    "version": 3
   },
   "file_extension": ".py",
   "mimetype": "text/x-python",
   "name": "python",
   "nbconvert_exporter": "python",
   "pygments_lexer": "ipython3",
   "version": "3.5.1"
  }
 },
 "nbformat": 4,
 "nbformat_minor": 1
}
