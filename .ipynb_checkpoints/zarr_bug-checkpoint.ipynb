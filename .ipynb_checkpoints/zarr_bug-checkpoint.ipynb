{
 "cells": [
  {
   "cell_type": "code",
   "execution_count": 1,
   "metadata": {
    "collapsed": false
   },
   "outputs": [
    {
     "data": {
      "text/plain": [
       "'2.1.4'"
      ]
     },
     "execution_count": 1,
     "metadata": {},
     "output_type": "execute_result"
    }
   ],
   "source": [
    "import zarr\n",
    "zarr.__version__"
   ]
  },
  {
   "cell_type": "code",
   "execution_count": 2,
   "metadata": {
    "collapsed": true
   },
   "outputs": [],
   "source": [
    "import tempfile"
   ]
  },
  {
   "cell_type": "code",
   "execution_count": 3,
   "metadata": {
    "collapsed": true
   },
   "outputs": [],
   "source": [
    "tmp = tempfile.mkdtemp()"
   ]
  },
  {
   "cell_type": "code",
   "execution_count": 4,
   "metadata": {
    "collapsed": true
   },
   "outputs": [],
   "source": [
    "import numpy as np"
   ]
  },
  {
   "cell_type": "code",
   "execution_count": 5,
   "metadata": {
    "collapsed": true
   },
   "outputs": [],
   "source": [
    "import pandas as pd"
   ]
  },
  {
   "cell_type": "code",
   "execution_count": 6,
   "metadata": {
    "collapsed": false
   },
   "outputs": [
    {
     "name": "stderr",
     "output_type": "stream",
     "text": [
      "/anaconda/envs/science/lib/python3.5/site-packages/ipykernel/__main__.py:1: FutureWarning: The pandas.rpy module is deprecated and will be removed in a future version. We refer to external packages like rpy2. \n",
      "See here for a guide on how to port your code to rpy2: http://pandas.pydata.org/pandas-docs/stable/r_interface.html\n",
      "  if __name__ == '__main__':\n"
     ]
    }
   ],
   "source": [
    "import pandas.rpy.common as rcom"
   ]
  },
  {
   "cell_type": "code",
   "execution_count": 7,
   "metadata": {
    "collapsed": false
   },
   "outputs": [],
   "source": [
    "cars = rcom.load_data('mtcars')"
   ]
  },
  {
   "cell_type": "code",
   "execution_count": 8,
   "metadata": {
    "collapsed": false
   },
   "outputs": [],
   "source": [
    "test_data = np.array([\"A-1\", \"B-1\", \"C-1\"], dtype=\"object\")"
   ]
  },
  {
   "cell_type": "code",
   "execution_count": 12,
   "metadata": {
    "collapsed": false
   },
   "outputs": [
    {
     "data": {
      "text/plain": [
       "(64,)"
      ]
     },
     "execution_count": 12,
     "metadata": {},
     "output_type": "execute_result"
    }
   ],
   "source": [
    "t = np.concatenate([cars.index, cars.index])\n",
    "t.shape"
   ]
  },
  {
   "cell_type": "code",
   "execution_count": 19,
   "metadata": {
    "collapsed": false
   },
   "outputs": [],
   "source": [
    "z = zarr.open_group(tmp, mode=\"w\")\n",
    "s = z.require_dataset(\"test\", shape=t.shape, dtype=\"U16\")\n",
    "s[:] = t"
   ]
  },
  {
   "cell_type": "code",
   "execution_count": 20,
   "metadata": {
    "collapsed": true
   },
   "outputs": [],
   "source": [
    "q = zarr.open_group(tmp, mode=\"r\")"
   ]
  },
  {
   "cell_type": "code",
   "execution_count": 21,
   "metadata": {
    "collapsed": false
   },
   "outputs": [
    {
     "data": {
      "text/plain": [
       "array(['Mazda RX4', 'Mazda RX4 Wag', 'Datsun 710', 'Hornet 4 Drive',\n",
       "       'Hornet Sportabou', 'Valiant', 'Duster 360', 'Merc 240D',\n",
       "       'Merc 230', 'Merc 280', 'Merc 280C', 'Merc 450SE', 'Merc 450SL',\n",
       "       'Merc 450SLC', 'Cadillac Fleetwo', 'Lincoln Continen',\n",
       "       'Chrysler Imperia', 'Fiat 128', 'Honda Civic', 'Toyota Corolla',\n",
       "       'Toyota Corona', 'Dodge Challenger', 'AMC Javelin', 'Camaro Z28',\n",
       "       'Pontiac Firebird', 'Fiat X1-9', 'Porsche 914-2', 'Lotus Europa',\n",
       "       'Ford Pantera L', 'Ferrari Dino', 'Maserati Bora', 'Volvo 142E',\n",
       "       'Mazda RX4', 'Mazda RX4 Wag', 'Datsun 710', 'Hornet 4 Drive',\n",
       "       'Hornet Sportabou', 'Valiant', 'Duster 360', 'Merc 240D',\n",
       "       'Merc 230', 'Merc 280', 'Merc 280C', 'Merc 450SE', 'Merc 450SL',\n",
       "       'Merc 450SLC', 'Cadillac Fleetwo', 'Lincoln Continen',\n",
       "       'Chrysler Imperia', 'Fiat 128', 'Honda Civic', 'Toyota Corolla',\n",
       "       'Toyota Corona', 'Dodge Challenger', 'AMC Javelin', 'Camaro Z28',\n",
       "       'Pontiac Firebird', 'Fiat X1-9', 'Porsche 914-2', 'Lotus Europa',\n",
       "       'Ford Pantera L', 'Ferrari Dino', 'Maserati Bora', 'Volvo 142E'], \n",
       "      dtype='<U16')"
      ]
     },
     "execution_count": 21,
     "metadata": {},
     "output_type": "execute_result"
    }
   ],
   "source": [
    "q[\"test\"][:]"
   ]
  },
  {
   "cell_type": "markdown",
   "metadata": {},
   "source": [
    "# not reproduced!"
   ]
  },
  {
   "cell_type": "code",
   "execution_count": null,
   "metadata": {
    "collapsed": true
   },
   "outputs": [],
   "source": []
  }
 ],
 "metadata": {
  "kernelspec": {
   "display_name": "Python 3",
   "language": "python",
   "name": "python3"
  },
  "language_info": {
   "codemirror_mode": {
    "name": "ipython",
    "version": 3
   },
   "file_extension": ".py",
   "mimetype": "text/x-python",
   "name": "python",
   "nbconvert_exporter": "python",
   "pygments_lexer": "ipython3",
   "version": "3.5.1"
  }
 },
 "nbformat": 4,
 "nbformat_minor": 1
}
