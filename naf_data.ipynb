{
 "cells": [
  {
   "cell_type": "code",
   "execution_count": 1,
   "metadata": {
    "collapsed": true
   },
   "outputs": [],
   "source": [
    "import pandas as pd\n",
    "import numpy as np"
   ]
  },
  {
   "cell_type": "code",
   "execution_count": 2,
   "metadata": {
    "collapsed": false
   },
   "outputs": [],
   "source": [
    "naf = pd.read_csv(\"NAF_Matches_2013-14.csv\")"
   ]
  },
  {
   "cell_type": "code",
   "execution_count": 4,
   "metadata": {
    "collapsed": false
   },
   "outputs": [
    {
     "data": {
      "text/html": [
       "<div>\n",
       "<table border=\"1\" class=\"dataframe\">\n",
       "  <thead>\n",
       "    <tr style=\"text-align: right;\">\n",
       "      <th></th>\n",
       "      <th>tournamentname</th>\n",
       "      <th>tournamentnation</th>\n",
       "      <th>tournamentcity</th>\n",
       "      <th>gameid</th>\n",
       "      <th>HomeCoachNAFname</th>\n",
       "      <th>HomeCoachNAFid</th>\n",
       "      <th>HomeRace</th>\n",
       "      <th>goalshome</th>\n",
       "      <th>AwayCoachNAFname</th>\n",
       "      <th>AwayCoachNAFid</th>\n",
       "      <th>AwayRace</th>\n",
       "      <th>goalsaway</th>\n",
       "      <th>gamedate</th>\n",
       "    </tr>\n",
       "  </thead>\n",
       "  <tbody>\n",
       "    <tr>\n",
       "      <th>0</th>\n",
       "      <td>Bash-N-Dash Classic</td>\n",
       "      <td>United States</td>\n",
       "      <td>Cary</td>\n",
       "      <td>99942</td>\n",
       "      <td>Sherrirealtor</td>\n",
       "      <td>19508</td>\n",
       "      <td>Wood Elves</td>\n",
       "      <td>0</td>\n",
       "      <td>d4rkt3mpl4r</td>\n",
       "      <td>19509</td>\n",
       "      <td>Chaos Dwarves</td>\n",
       "      <td>3</td>\n",
       "      <td>05/01/2013</td>\n",
       "    </tr>\n",
       "    <tr>\n",
       "      <th>1</th>\n",
       "      <td>Bash-N-Dash Classic</td>\n",
       "      <td>United States</td>\n",
       "      <td>Cary</td>\n",
       "      <td>99943</td>\n",
       "      <td>Sugarwookie</td>\n",
       "      <td>2444</td>\n",
       "      <td>Chaos Pact</td>\n",
       "      <td>1</td>\n",
       "      <td>Gaixo</td>\n",
       "      <td>13696</td>\n",
       "      <td>Dark Elves</td>\n",
       "      <td>3</td>\n",
       "      <td>05/01/2013</td>\n",
       "    </tr>\n",
       "    <tr>\n",
       "      <th>2</th>\n",
       "      <td>Bash-N-Dash Classic</td>\n",
       "      <td>United States</td>\n",
       "      <td>Cary</td>\n",
       "      <td>99944</td>\n",
       "      <td>jccaran</td>\n",
       "      <td>19506</td>\n",
       "      <td>Orc</td>\n",
       "      <td>1</td>\n",
       "      <td>orgavin</td>\n",
       "      <td>19083</td>\n",
       "      <td>Khemri</td>\n",
       "      <td>0</td>\n",
       "      <td>05/01/2013</td>\n",
       "    </tr>\n",
       "    <tr>\n",
       "      <th>3</th>\n",
       "      <td>Bash-N-Dash Classic</td>\n",
       "      <td>United States</td>\n",
       "      <td>Cary</td>\n",
       "      <td>99945</td>\n",
       "      <td>interociter_1955</td>\n",
       "      <td>19507</td>\n",
       "      <td>Khemri</td>\n",
       "      <td>2</td>\n",
       "      <td>profgoldfinch</td>\n",
       "      <td>18217</td>\n",
       "      <td>Ogres</td>\n",
       "      <td>1</td>\n",
       "      <td>05/01/2013</td>\n",
       "    </tr>\n",
       "    <tr>\n",
       "      <th>4</th>\n",
       "      <td>Bash-N-Dash Classic</td>\n",
       "      <td>United States</td>\n",
       "      <td>Cary</td>\n",
       "      <td>99946</td>\n",
       "      <td>ericbehymer</td>\n",
       "      <td>19164</td>\n",
       "      <td>Orc</td>\n",
       "      <td>2</td>\n",
       "      <td>xxthelizardkingxx</td>\n",
       "      <td>18830</td>\n",
       "      <td>Lizardmen</td>\n",
       "      <td>1</td>\n",
       "      <td>05/01/2013</td>\n",
       "    </tr>\n",
       "  </tbody>\n",
       "</table>\n",
       "</div>"
      ],
      "text/plain": [
       "        tournamentname tournamentnation tournamentcity  gameid  \\\n",
       "0  Bash-N-Dash Classic    United States           Cary   99942   \n",
       "1  Bash-N-Dash Classic    United States           Cary   99943   \n",
       "2  Bash-N-Dash Classic    United States           Cary   99944   \n",
       "3  Bash-N-Dash Classic    United States           Cary   99945   \n",
       "4  Bash-N-Dash Classic    United States           Cary   99946   \n",
       "\n",
       "   HomeCoachNAFname  HomeCoachNAFid    HomeRace  goalshome   AwayCoachNAFname  \\\n",
       "0     Sherrirealtor           19508  Wood Elves          0        d4rkt3mpl4r   \n",
       "1       Sugarwookie            2444  Chaos Pact          1              Gaixo   \n",
       "2           jccaran           19506         Orc          1            orgavin   \n",
       "3  interociter_1955           19507      Khemri          2      profgoldfinch   \n",
       "4       ericbehymer           19164         Orc          2  xxthelizardkingxx   \n",
       "\n",
       "   AwayCoachNAFid       AwayRace  goalsaway    gamedate  \n",
       "0           19509  Chaos Dwarves          3  05/01/2013  \n",
       "1           13696     Dark Elves          3  05/01/2013  \n",
       "2           19083         Khemri          0  05/01/2013  \n",
       "3           18217          Ogres          1  05/01/2013  \n",
       "4           18830      Lizardmen          1  05/01/2013  "
      ]
     },
     "execution_count": 4,
     "metadata": {},
     "output_type": "execute_result"
    }
   ],
   "source": [
    "naf.head()"
   ]
  },
  {
   "cell_type": "code",
   "execution_count": 5,
   "metadata": {
    "collapsed": false
   },
   "outputs": [],
   "source": [
    "# find r1 games, defined as the first game played in a given tournament by the home coach\n",
    "grps = naf.groupby(by=\"tournamentname\")"
   ]
  },
  {
   "cell_type": "code",
   "execution_count": 52,
   "metadata": {
    "collapsed": true
   },
   "outputs": [],
   "source": [
    "race_names = sorted(set(naf.HomeRace.tolist()))"
   ]
  },
  {
   "cell_type": "code",
   "execution_count": 53,
   "metadata": {
    "collapsed": true
   },
   "outputs": [],
   "source": [
    "race_ids = {race:idf for race, idf in zip(race_names, range(len(race_names)))}"
   ]
  },
  {
   "cell_type": "code",
   "execution_count": 33,
   "metadata": {
    "collapsed": false
   },
   "outputs": [],
   "source": [
    "def compute_wr_first():\n",
    "\n",
    "    result = np.zeros((24, 24), dtype=\"float\")\n",
    "    count = np.zeros((24, 24), dtype=\"int\")\n",
    "\n",
    "    # or take the numbe of coaches and divide by 2. Take the first x games.\n",
    "    for g in grps.groups:\n",
    "        x = grps.get_group(g)\n",
    "        set_coaches = set(x.HomeCoachNAFid.tolist() + x.AwayCoachNAFid.tolist())\n",
    "        ngames = len(set_coaches)//2\n",
    "\n",
    "        for i, row in x[:ngames].iterrows():\n",
    "            id_home = race_ids[row.HomeRace]\n",
    "            id_away = race_ids[row.AwayRace]\n",
    "            count[id_home, id_away] = count[id_home, id_away] + 1\n",
    "            count[id_away, id_home] = count[id_away, id_home] + 1\n",
    "\n",
    "            if row.goalshome > row.goalsaway:\n",
    "                result[id_home, id_away] = result[id_home, id_away] + 1\n",
    "            elif row.goalshome < row.goalsaway:\n",
    "                result[id_away, id_home] = result[id_away, id_home] + 1\n",
    "            else:\n",
    "                result[id_home, id_away] = result[id_home, id_away] + 0.5\n",
    "                result[id_away, id_home] = result[id_away, id_home] + 0.5\n",
    "                \n",
    "    return result, count, result/count"
   ]
  },
  {
   "cell_type": "code",
   "execution_count": 34,
   "metadata": {
    "collapsed": true
   },
   "outputs": [],
   "source": [
    "def compute_wr_last():\n",
    "\n",
    "    result = np.zeros((24, 24), dtype=\"float\")\n",
    "    count = np.zeros((24, 24), dtype=\"int\")\n",
    "\n",
    "    # or take the numbe of coaches and divide by 2. Take the first x games.\n",
    "    for g in grps.groups:\n",
    "        x = grps.get_group(g)\n",
    "        set_coaches = set(x.HomeCoachNAFid.tolist() + x.AwayCoachNAFid.tolist())\n",
    "        ngames = len(set_coaches)//2\n",
    "\n",
    "        for i, row in x[-ngames:].iterrows():\n",
    "            id_home = race_ids[row.HomeRace]\n",
    "            id_away = race_ids[row.AwayRace]\n",
    "            count[id_home, id_away] = count[id_home, id_away] + 1\n",
    "            count[id_away, id_home] = count[id_away, id_home] + 1\n",
    "\n",
    "            if row.goalshome > row.goalsaway:\n",
    "                result[id_home, id_away] = result[id_home, id_away] + 1\n",
    "            elif row.goalshome < row.goalsaway:\n",
    "                result[id_away, id_home] = result[id_away, id_home] + 1\n",
    "            else:\n",
    "                result[id_home, id_away] = result[id_home, id_away] + 0.5\n",
    "                result[id_away, id_home] = result[id_away, id_home] + 0.5\n",
    "                \n",
    "    return result, count, result/count"
   ]
  },
  {
   "cell_type": "code",
   "execution_count": 41,
   "metadata": {
    "collapsed": false
   },
   "outputs": [],
   "source": [
    "_, fc, first = compute_wr_first()\n",
    "_, lc, last = compute_wr_last()"
   ]
  },
  {
   "cell_type": "code",
   "execution_count": 46,
   "metadata": {
    "collapsed": true
   },
   "outputs": [],
   "source": [
    "x = np.where(counts > 50)"
   ]
  },
  {
   "cell_type": "code",
   "execution_count": 55,
   "metadata": {
    "collapsed": false
   },
   "outputs": [
    {
     "data": {
      "text/plain": [
       "{'Amazons': 0,\n",
       " 'Chaos': 1,\n",
       " 'Chaos Dwarves': 2,\n",
       " 'Chaos Pact': 3,\n",
       " 'Dark Elves': 4,\n",
       " 'Dwarves': 5,\n",
       " 'Elves': 6,\n",
       " 'Goblins': 7,\n",
       " 'Halflings': 8,\n",
       " 'High Elves': 9,\n",
       " 'Humans': 10,\n",
       " 'Khemri': 11,\n",
       " 'Lizardmen': 12,\n",
       " 'Necromantic': 13,\n",
       " 'Norse': 14,\n",
       " \"Nurgle's Rotters\": 15,\n",
       " 'Ogres': 16,\n",
       " 'Orc': 17,\n",
       " 'Skaven': 18,\n",
       " 'Slann': 19,\n",
       " 'Undead': 20,\n",
       " 'Underworld': 21,\n",
       " 'Vampires': 22,\n",
       " 'Wood Elves': 23}"
      ]
     },
     "execution_count": 55,
     "metadata": {},
     "output_type": "execute_result"
    }
   ],
   "source": [
    "race_ids"
   ]
  },
  {
   "cell_type": "code",
   "execution_count": 59,
   "metadata": {
    "collapsed": false
   },
   "outputs": [
    {
     "name": "stdout",
     "output_type": "stream",
     "text": [
      "Goblins Chaos Dwarves 0.444444444444 0.395833333333 18 24\n",
      "Goblins Dark Elves 0.211538461538 0.260869565217 26 23\n",
      "Goblins Dwarves 0.120689655172 0.386363636364 29 22\n",
      "Halflings Goblins 0.53125 0.51724137931 16 29\n",
      "Humans Goblins 0.704545454545 0.666666666667 22 21\n",
      "Lizardmen Goblins 0.711538461538 0.7 26 20\n",
      "Norse Goblins 0.64 0.5 25 34\n",
      "Norse Halflings 0.56 0.5625 25 16\n",
      "Ogres Dwarves 0.285714285714 0.285714285714 21 21\n",
      "Ogres Lizardmen 0.326086956522 0.333333333333 23 24\n",
      "Ogres Norse 0.282608695652 0.282608695652 23 23\n",
      "Orc Goblins 0.603448275862 0.680555555556 29 36\n",
      "Orc Halflings 0.5 0.630434782609 20 23\n",
      "Orc Ogres 0.638888888889 0.586206896552 18 29\n",
      "Skaven Goblins 0.833333333333 0.72 24 25\n",
      "Undead Ogres 0.759259259259 0.729166666667 27 24\n",
      "Wood Elves Goblins 0.714285714286 0.90625 28 16\n"
     ]
    }
   ],
   "source": [
    "counts = fc + lc\n",
    "\n",
    "for (i, j) in zip(*np.where(counts > 40)):\n",
    "    if np.in1d((i, j), (7, 8, 16)).any():\n",
    "        if i > j:\n",
    "            print(race_names[i], race_names[j], first[i, j], last[i, j], fc[i, j], lc[i, j])"
   ]
  }
 ],
 "metadata": {
  "kernelspec": {
   "display_name": "Python 3",
   "language": "python",
   "name": "python3"
  },
  "language_info": {
   "codemirror_mode": {
    "name": "ipython",
    "version": 3
   },
   "file_extension": ".py",
   "mimetype": "text/x-python",
   "name": "python",
   "nbconvert_exporter": "python",
   "pygments_lexer": "ipython3",
   "version": "3.5.0+"
  }
 },
 "nbformat": 4,
 "nbformat_minor": 0
}
