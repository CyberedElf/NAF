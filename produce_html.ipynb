{
 "cells": [
  {
   "cell_type": "code",
   "execution_count": 1,
   "metadata": {},
   "outputs": [],
   "source": [
    "import pandas as pd"
   ]
  },
  {
   "cell_type": "code",
   "execution_count": 2,
   "metadata": {},
   "outputs": [],
   "source": [
    "from bokeh.layouts import column\n",
    "from bokeh.models import ColumnDataSource, CustomJS\n",
    "from bokeh.models.widgets import DataTable, TableColumn, Select\n",
    "from bokeh.plotting import save, output_file"
   ]
  },
  {
   "cell_type": "code",
   "execution_count": 3,
   "metadata": {},
   "outputs": [],
   "source": [
    "df = pd.read_table(\"output/player_ranks.txt\", index_col=0)\n",
    "df.reset_index(inplace=True, drop=True)\n",
    "df.index = df.index.values + 1"
   ]
  },
  {
   "cell_type": "code",
   "execution_count": 4,
   "metadata": {},
   "outputs": [],
   "source": [
    "source = ColumnDataSource(df)\n",
    "original_source = ColumnDataSource(df)"
   ]
  },
  {
   "cell_type": "code",
   "execution_count": 5,
   "metadata": {},
   "outputs": [],
   "source": [
    "from bokeh.models.widgets import NumberFormatter"
   ]
  },
  {
   "cell_type": "code",
   "execution_count": 6,
   "metadata": {},
   "outputs": [],
   "source": [
    "numform = NumberFormatter(format='0.00')\n",
    "\n",
    "strcolumns = [TableColumn(field=x, title=x) for x in [\"coach\", \"race\"]]\n",
    "numcolumns = [TableColumn(field=x,\n",
    "                          title=x, \n",
    "                          formatter=numform) for x in [\"mu\", \"phi\", \"value\"]]\n",
    "\n",
    "data_table = DataTable(source=source, columns=strcolumns + numcolumns)"
   ]
  },
  {
   "cell_type": "code",
   "execution_count": 7,
   "metadata": {},
   "outputs": [
    {
     "data": {
      "text/html": [
       "<div>\n",
       "<style scoped>\n",
       "    .dataframe tbody tr th:only-of-type {\n",
       "        vertical-align: middle;\n",
       "    }\n",
       "\n",
       "    .dataframe tbody tr th {\n",
       "        vertical-align: top;\n",
       "    }\n",
       "\n",
       "    .dataframe thead th {\n",
       "        text-align: right;\n",
       "    }\n",
       "</style>\n",
       "<table border=\"1\" class=\"dataframe\">\n",
       "  <thead>\n",
       "    <tr style=\"text-align: right;\">\n",
       "      <th></th>\n",
       "      <th>coach</th>\n",
       "      <th>race</th>\n",
       "      <th>mu</th>\n",
       "      <th>phi</th>\n",
       "      <th>value</th>\n",
       "    </tr>\n",
       "  </thead>\n",
       "  <tbody>\n",
       "    <tr>\n",
       "      <th>1</th>\n",
       "      <td>Jimjimany</td>\n",
       "      <td>Wood Elves</td>\n",
       "      <td>1884.210</td>\n",
       "      <td>62.254</td>\n",
       "      <td>1728.5750</td>\n",
       "    </tr>\n",
       "    <tr>\n",
       "      <th>2</th>\n",
       "      <td>strider84</td>\n",
       "      <td>Wood Elves</td>\n",
       "      <td>1868.620</td>\n",
       "      <td>59.565</td>\n",
       "      <td>1719.7075</td>\n",
       "    </tr>\n",
       "    <tr>\n",
       "      <th>3</th>\n",
       "      <td>Joemanji</td>\n",
       "      <td>Undead</td>\n",
       "      <td>1838.464</td>\n",
       "      <td>53.228</td>\n",
       "      <td>1705.3940</td>\n",
       "    </tr>\n",
       "    <tr>\n",
       "      <th>4</th>\n",
       "      <td>Pipey</td>\n",
       "      <td>Norse</td>\n",
       "      <td>1886.250</td>\n",
       "      <td>74.396</td>\n",
       "      <td>1700.2600</td>\n",
       "    </tr>\n",
       "    <tr>\n",
       "      <th>5</th>\n",
       "      <td>Jokaero</td>\n",
       "      <td>Dark Elves</td>\n",
       "      <td>1879.240</td>\n",
       "      <td>75.342</td>\n",
       "      <td>1690.8850</td>\n",
       "    </tr>\n",
       "  </tbody>\n",
       "</table>\n",
       "</div>"
      ],
      "text/plain": [
       "       coach        race        mu     phi      value\n",
       "1  Jimjimany  Wood Elves  1884.210  62.254  1728.5750\n",
       "2  strider84  Wood Elves  1868.620  59.565  1719.7075\n",
       "3   Joemanji      Undead  1838.464  53.228  1705.3940\n",
       "4      Pipey       Norse  1886.250  74.396  1700.2600\n",
       "5    Jokaero  Dark Elves  1879.240  75.342  1690.8850"
      ]
     },
     "execution_count": 7,
     "metadata": {},
     "output_type": "execute_result"
    }
   ],
   "source": [
    "df.head()"
   ]
  },
  {
   "cell_type": "code",
   "execution_count": 8,
   "metadata": {},
   "outputs": [],
   "source": [
    "data_table.height = 1000\n",
    "data_table.width = 500"
   ]
  },
  {
   "cell_type": "code",
   "execution_count": 9,
   "metadata": {},
   "outputs": [],
   "source": [
    "# callback code to be used by all the filter widgets\n",
    "# requires (source, original_source, race_select_obj,target_object)\n",
    "combined_callback_code = \"\"\"\n",
    "var data = source.get('data');\n",
    "var original_data = original_source.get('data');\n",
    "var race = race_select_obj.get('value');\n",
    "console.log(\"race: \" + race);\n",
    "\n",
    "for (var key in original_data) {\n",
    "    data[key] = [];\n",
    "    for (var i = 0; i < original_data['race'].length; ++i) {\n",
    "        if (race === \"ALL\" || original_data['race'][i] === race) {\n",
    "            data[key].push(original_data[key][i]);\n",
    "        }\n",
    "    }\n",
    "}\n",
    "\n",
    "target_obj.trigger('change');\n",
    "source.trigger('change');\n",
    "\n",
    "\"\"\""
   ]
  },
  {
   "cell_type": "code",
   "execution_count": 10,
   "metadata": {},
   "outputs": [
    {
     "data": {
      "text/plain": [
       "'/home/njh/git/NAF/datatable_filter.html'"
      ]
     },
     "execution_count": 10,
     "metadata": {},
     "output_type": "execute_result"
    }
   ],
   "source": [
    "# define the filter widgets, without callbacks for now\n",
    "race_list = ['ALL'] + df['race'].unique().tolist()\n",
    "race_select = Select(title=\"Race:\", value=race_list[0], options=race_list)\n",
    "\n",
    "# year_list = ['ALL'] + df['year'].unique().tolist()\n",
    "# year_select = Select(title=\"Year:\", value=year_list[0], options=year_list)\n",
    "# now define the callback objects now that the filter widgets exist\n",
    "generic_callback = CustomJS(\n",
    "    args=dict(source=source, \n",
    "              original_source=original_source, \n",
    "              race_select_obj=race_select, \n",
    "              target_obj=data_table),\n",
    "    code=combined_callback_code\n",
    ")\n",
    "\n",
    "# finally, connect the callbacks to the filter widgets\n",
    "race_select.js_on_change('value', generic_callback)\n",
    "\n",
    "#year_select.js_on_change('value', generic_callback)\n",
    "p = column(race_select, data_table)\n",
    "\n",
    "output_file('rankings.html')\n",
    "\n",
    "save(p)"
   ]
  }
 ],
 "metadata": {
  "kernelspec": {
   "display_name": "Python 3",
   "language": "python",
   "name": "python3"
  },
  "language_info": {
   "codemirror_mode": {
    "name": "ipython",
    "version": 3
   },
   "file_extension": ".py",
   "mimetype": "text/x-python",
   "name": "python",
   "nbconvert_exporter": "python",
   "pygments_lexer": "ipython3",
   "version": "3.6.4"
  }
 },
 "nbformat": 4,
 "nbformat_minor": 2
}
